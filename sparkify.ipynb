{
 "cells": [
  {
   "cell_type": "markdown",
   "metadata": {},
   "source": [
    "# Sparkify Project Workspace\n",
    "This workspace contains a tiny subset (128MB) of the full dataset available (12GB). Feel free to use this workspace to build your project, or to explore a smaller subset with Spark before deploying your cluster on the cloud. Instructions for setting up your Spark cluster is included in the last lesson of the Extracurricular Spark Course content.\n",
    "\n",
    "You can follow the steps below to guide your data analysis and model building portion of this project."
   ]
  },
  {
   "cell_type": "markdown",
   "metadata": {},
   "source": [
    "----\n",
    "# 0. Preparation\n",
    "Import necessary libraries and create a Spark session.\n",
    "\n"
   ]
  },
  {
   "cell_type": "code",
   "execution_count": 110,
   "metadata": {},
   "outputs": [],
   "source": [
    "# import libraries\n",
    "import pandas as pd\n",
    "import matplotlib.pyplot as plt\n",
    "import matplotlib.gridspec as grd\n",
    "import warnings\n",
    "import seaborn as sns\n",
    "import datetime\n",
    "from time import time\n",
    "\n",
    "import pyspark\n",
    "import pyspark.sql.functions as F\n",
    "from pyspark import SparkConf\n",
    "from pyspark.sql import SparkSession\n",
    "from pyspark.sql.functions import udf, col, isnan, when, count\n",
    "from pyspark.sql.types import IntegerType, LongType\n",
    "\n",
    "from pyspark.ml.feature import StringIndexer, VectorAssembler, MinMaxScaler\n",
    "from pyspark.ml import Pipeline\n",
    "from pyspark.ml.classification import LogisticRegression\n",
    "from pyspark.ml.classification import DecisionTreeClassifier\n",
    "from pyspark.ml.classification import RandomForestClassifier\n",
    "from pyspark.ml.classification import NaiveBayes\n",
    "from pyspark.ml.tuning import CrossValidator, ParamGridBuilder\n",
    "from pyspark.ml.evaluation import BinaryClassificationEvaluator, MulticlassClassificationEvaluator\n",
    "\n",
    "from pyspark.mllib.evaluation import MulticlassMetrics\n",
    "\n",
    "%matplotlib inline"
   ]
  },
  {
   "cell_type": "code",
   "execution_count": 4,
   "metadata": {},
   "outputs": [],
   "source": [
    "# create requirements.txt - only run when changing libraries\n",
    "#! pip freeze > requirements.txt"
   ]
  },
  {
   "cell_type": "code",
   "execution_count": 5,
   "metadata": {},
   "outputs": [],
   "source": [
    "# set style for visualizations\n",
    "plt.style.use('ggplot')"
   ]
  },
  {
   "cell_type": "code",
   "execution_count": 6,
   "metadata": {},
   "outputs": [],
   "source": [
    "# create a Spark session\n",
    "spark = SparkSession \\\n",
    "    .builder \\\n",
    "    .appName(\"Sparkify Project\") \\\n",
    "    .getOrCreate()"
   ]
  },
  {
   "cell_type": "markdown",
   "metadata": {},
   "source": [
    "----\n",
    "# 1. Project Definition"
   ]
  },
  {
   "cell_type": "markdown",
   "metadata": {},
   "source": [
    "## 1.1 Project Overview\n",
    "This project is the final Capstone project of the Udacity Data Scientist Nanodegree program. The aim is to learn how to manipulate realistic datasets with Spark to engineer relevant features for predicting churn. Input data is related to the fictive music streaming service Sparkify (similar to Spotify and Pandora). The full dataset was only available if paying for an account in AWS so this project have been done using the workspace provided by Udacity. A smaller dataset was provided in .json format. "
   ]
  },
  {
   "cell_type": "markdown",
   "metadata": {},
   "source": [
    "## 1.2 Problem Statement\n",
    "The problem is to predict which users will churn from the Sparkify music streaming service. I will build a machine learning model using Spark to achieve this. As there only are two possible outcomes, 'churn' and 'not churn', this is a binary classification problem where we can apply supervised learning."
   ]
  },
  {
   "cell_type": "markdown",
   "metadata": {},
   "source": [
    "# 1.3 Metrics\n",
    "Only 23% of the users have the outcome churn and therefore the classification distribution is unbalanced. To take this into account I've chosen the **F1 Score** metric which is the harmonic mean of precision and recall."
   ]
  },
  {
   "cell_type": "markdown",
   "metadata": {},
   "source": [
    "----\n",
    "# 2. Analysis"
   ]
  },
  {
   "cell_type": "markdown",
   "metadata": {},
   "source": [
    "## 2.1 Load and Clean Dataset\n",
    "In this workspace, the mini-dataset file is `mini_sparkify_event_data.json`."
   ]
  },
  {
   "cell_type": "markdown",
   "metadata": {},
   "source": [
    "### 2.1.1 Load Data"
   ]
  },
  {
   "cell_type": "code",
   "execution_count": 7,
   "metadata": {},
   "outputs": [],
   "source": [
    "# load dataset\n",
    "path = \"mini_sparkify_event_data.json\"\n",
    "event_log = spark.read.json(path)"
   ]
  },
  {
   "cell_type": "markdown",
   "metadata": {},
   "source": [
    "### 2.1.2 Clean Data\n",
    "The following were found when cleaning the data:\n",
    "- There are some rows with missing data and one string column with no values (userId).\n",
    "- Looks like most columns with missing data is when a user is not logged in and is browsing the web page of the service.\n",
    "- When filtering out the empty userId we only lose \"one\" user (all the unknowns).\n",
    "- After filtering out empty userID there are 50046 rows with missing data for 3 columns which all are related to a song (artist, length, song). This is natural since the user can do other events than listening to songs while logged in. Since we are interested in these other events as well, these rows were not removed."
   ]
  },
  {
   "cell_type": "code",
   "execution_count": 8,
   "metadata": {},
   "outputs": [
    {
     "data": {
      "text/plain": [
       "286500"
      ]
     },
     "execution_count": 8,
     "metadata": {},
     "output_type": "execute_result"
    }
   ],
   "source": [
    "# count rows\n",
    "event_log.count()"
   ]
  },
  {
   "cell_type": "code",
   "execution_count": 9,
   "metadata": {},
   "outputs": [
    {
     "name": "stdout",
     "output_type": "stream",
     "text": [
      "+----------------------+\n",
      "|count(DISTINCT userId)|\n",
      "+----------------------+\n",
      "|                   226|\n",
      "+----------------------+\n",
      "\n"
     ]
    }
   ],
   "source": [
    "# distinct users\n",
    "event_log.select(F.countDistinct(\"userId\")).show()"
   ]
  },
  {
   "cell_type": "code",
   "execution_count": 10,
   "metadata": {},
   "outputs": [
    {
     "name": "stdout",
     "output_type": "stream",
     "text": [
      "root\n",
      " |-- artist: string (nullable = true)\n",
      " |-- auth: string (nullable = true)\n",
      " |-- firstName: string (nullable = true)\n",
      " |-- gender: string (nullable = true)\n",
      " |-- itemInSession: long (nullable = true)\n",
      " |-- lastName: string (nullable = true)\n",
      " |-- length: double (nullable = true)\n",
      " |-- level: string (nullable = true)\n",
      " |-- location: string (nullable = true)\n",
      " |-- method: string (nullable = true)\n",
      " |-- page: string (nullable = true)\n",
      " |-- registration: long (nullable = true)\n",
      " |-- sessionId: long (nullable = true)\n",
      " |-- song: string (nullable = true)\n",
      " |-- status: long (nullable = true)\n",
      " |-- ts: long (nullable = true)\n",
      " |-- userAgent: string (nullable = true)\n",
      " |-- userId: string (nullable = true)\n",
      "\n"
     ]
    }
   ],
   "source": [
    "# check which columns exist\n",
    "event_log.printSchema()"
   ]
  },
  {
   "cell_type": "code",
   "execution_count": 11,
   "metadata": {},
   "outputs": [
    {
     "data": {
      "text/plain": [
       "[Row(artist=58392, auth=0, firstName=8346, gender=8346, itemInSession=0, lastName=8346, length=58392, level=0, location=8346, method=0, page=0, registration=8346, sessionId=0, song=58392, status=0, ts=0, userAgent=8346, userId=0)]"
      ]
     },
     "execution_count": 11,
     "metadata": {},
     "output_type": "execute_result"
    }
   ],
   "source": [
    "# check for missing values\n",
    "event_log.select([count(when(isnan(c) | col(c).isNull(), c)) \\\n",
    "         .alias(c) for c in event_log.columns]) \\\n",
    "         .collect()"
   ]
  },
  {
   "cell_type": "code",
   "execution_count": 12,
   "metadata": {},
   "outputs": [
    {
     "name": "stdout",
     "output_type": "stream",
     "text": [
      "+-------+------------------+----------+---------+------+--------+------+\n",
      "|summary|            artist|      auth|firstName|gender|lastName| level|\n",
      "+-------+------------------+----------+---------+------+--------+------+\n",
      "|  count|            228108|    286500|   278154|278154|  278154|286500|\n",
      "|   mean| 551.0852017937219|      null|     null|  null|    null|  null|\n",
      "| stddev|1217.7693079161374|      null|     null|  null|    null|  null|\n",
      "|    min|               !!!| Cancelled| Adelaida|     F|   Adams|  free|\n",
      "|    max| ÃÂlafur Arnalds|Logged Out|   Zyonna|     M|  Wright|  paid|\n",
      "+-------+------------------+----------+---------+------+--------+------+\n",
      "\n"
     ]
    }
   ],
   "source": [
    "# check min values for string columns - first part\n",
    "event_log.select([\"artist\", \"auth\", \"firstName\", \"gender\", \"lastName\", \"level\"]) \\\n",
    "         .describe() \\\n",
    "         .show()"
   ]
  },
  {
   "cell_type": "code",
   "execution_count": 13,
   "metadata": {},
   "outputs": [
    {
     "name": "stdout",
     "output_type": "stream",
     "text": [
      "+-------+-----------------+------+-------+--------------------+--------------------+-----------------+\n",
      "|summary|         location|method|   page|                song|           userAgent|           userId|\n",
      "+-------+-----------------+------+-------+--------------------+--------------------+-----------------+\n",
      "|  count|           278154|286500| 286500|              228108|              278154|           286500|\n",
      "|   mean|             null|  null|   null|            Infinity|                null|59682.02278593872|\n",
      "| stddev|             null|  null|   null|                 NaN|                null|109091.9499991047|\n",
      "|    min|       Albany, OR|   GET|  About|\u001c",
      "ÃÂg ÃÂtti Gr...|\"Mozilla/5.0 (Mac...|                 |\n",
      "|    max|Winston-Salem, NC|   PUT|Upgrade|ÃÂau hafa slopp...|Mozilla/5.0 (comp...|               99|\n",
      "+-------+-----------------+------+-------+--------------------+--------------------+-----------------+\n",
      "\n"
     ]
    }
   ],
   "source": [
    "# check min values for string columns - second part\n",
    "event_log.select([\"location\", \"method\", \"page\", \"song\", \"userAgent\", \"userId\"]) \\\n",
    "         .describe() \\\n",
    "         .show()"
   ]
  },
  {
   "cell_type": "code",
   "execution_count": 14,
   "metadata": {},
   "outputs": [
    {
     "name": "stdout",
     "output_type": "stream",
     "text": [
      "+------+----------+---------+------+-------------+--------+------+-----+--------+------+----+------------+---------+----+------+-------------+---------+------+\n",
      "|artist|      auth|firstName|gender|itemInSession|lastName|length|level|location|method|page|registration|sessionId|song|status|           ts|userAgent|userId|\n",
      "+------+----------+---------+------+-------------+--------+------+-----+--------+------+----+------------+---------+----+------+-------------+---------+------+\n",
      "|  null|Logged Out|     null|  null|          100|    null|  null| free|    null|   GET|Home|        null|        8|null|   200|1538355745000|     null|      |\n",
      "|  null|Logged Out|     null|  null|          101|    null|  null| free|    null|   GET|Help|        null|        8|null|   200|1538355807000|     null|      |\n",
      "|  null|Logged Out|     null|  null|          102|    null|  null| free|    null|   GET|Home|        null|        8|null|   200|1538355841000|     null|      |\n",
      "+------+----------+---------+------+-------------+--------+------+-----+--------+------+----+------------+---------+----+------+-------------+---------+------+\n",
      "only showing top 3 rows\n",
      "\n"
     ]
    }
   ],
   "source": [
    "# see examples of missing userId\n",
    "event_log.filter(\"userId = ''\").show(3)"
   ]
  },
  {
   "cell_type": "code",
   "execution_count": 15,
   "metadata": {},
   "outputs": [],
   "source": [
    "# remove rows with empty userId\n",
    "event_log_valid = event_log.filter(event_log[\"userId\"] != \"\")"
   ]
  },
  {
   "cell_type": "code",
   "execution_count": 16,
   "metadata": {},
   "outputs": [
    {
     "data": {
      "text/plain": [
       "[Row(artist=50046, auth=0, firstName=0, gender=0, itemInSession=0, lastName=0, length=50046, level=0, location=0, method=0, page=0, registration=0, sessionId=0, song=50046, status=0, ts=0, userAgent=0, userId=0)]"
      ]
     },
     "execution_count": 16,
     "metadata": {},
     "output_type": "execute_result"
    }
   ],
   "source": [
    "# check for missing values again after removing empty userId\n",
    "event_log_valid.select([count(when(isnan(c) | col(c).isNull(), c)) \\\n",
    "               .alias(c) for c in event_log_valid.columns]) \\\n",
    "               .collect()"
   ]
  },
  {
   "cell_type": "code",
   "execution_count": 17,
   "metadata": {},
   "outputs": [
    {
     "data": {
      "text/plain": [
       "278154"
      ]
     },
     "execution_count": 17,
     "metadata": {},
     "output_type": "execute_result"
    }
   ],
   "source": [
    "# count rows after removing empty userId\n",
    "event_log_valid.count()"
   ]
  },
  {
   "cell_type": "code",
   "execution_count": 18,
   "metadata": {},
   "outputs": [
    {
     "name": "stdout",
     "output_type": "stream",
     "text": [
      "+----------------------+\n",
      "|count(DISTINCT userId)|\n",
      "+----------------------+\n",
      "|                   225|\n",
      "+----------------------+\n",
      "\n"
     ]
    }
   ],
   "source": [
    "# distinct users\n",
    "event_log_valid.select(F.countDistinct(\"userId\")).show()"
   ]
  },
  {
   "cell_type": "markdown",
   "metadata": {},
   "source": [
    "## 2.2 Exploratory Data Analysis"
   ]
  },
  {
   "cell_type": "markdown",
   "metadata": {},
   "source": [
    "### 2.2.1 Preliminary Analysis"
   ]
  },
  {
   "cell_type": "markdown",
   "metadata": {},
   "source": [
    "#### 2.2.1.1 Column Description\n",
    "As no file description or data dictionary was provided, the following were assumed based on analysing the data:\n",
    "\n",
    "| Column | Grain | Description |\n",
    "| --- | :- | :- |\n",
    "| artist | Song | The artist name of the song played. |\n",
    "| auth | Event | Indicate if the user is logged in or not. |\n",
    "| firstName | User | First name of user. This could be considered a sensitive field in terms of data privacy. See discussion in next session about ethics. |\n",
    "| gender | User | If the user is Male or Female. |\n",
    "| itemInSession | Event | Which order in the session the event occurred. |\n",
    "| lastName | User | Last name of user. This could be considered a sensitive field in terms of data privacy. See discussion in next session about ethics. |\n",
    "| length | Song | Song length in seconds. |\n",
    "| level | Event | If the user had a free or paid subscription to the service at the time of the event. |\n",
    "| location | Session | Location of userAgent for session. |\n",
    "| method | Event | HTTP method used, can be GET or PUT. |\n",
    "| page | Event | The type of the event. |\n",
    "| registration | User | Timestamp for when the user first registered for the service. |\n",
    "| sessionId | Session | Unique identifier of a session. |\n",
    "| song | Song | The title of the song. |\n",
    "| status | Event | HTTP status code. 2xx=Successful, 3xx=Redirection, 4xx=Client Error. |\n",
    "| ts | Event | Timestamp of the event. |\n",
    "| userAgent | Session | The environment for the user, example OS and web browser used. |\n",
    "| userId | User | Unique identifier of a user. |\n"
   ]
  },
  {
   "cell_type": "code",
   "execution_count": 19,
   "metadata": {
    "scrolled": true
   },
   "outputs": [
    {
     "data": {
      "text/html": [
       "<div>\n",
       "<style scoped>\n",
       "    .dataframe tbody tr th:only-of-type {\n",
       "        vertical-align: middle;\n",
       "    }\n",
       "\n",
       "    .dataframe tbody tr th {\n",
       "        vertical-align: top;\n",
       "    }\n",
       "\n",
       "    .dataframe thead th {\n",
       "        text-align: right;\n",
       "    }\n",
       "</style>\n",
       "<table border=\"1\" class=\"dataframe\">\n",
       "  <thead>\n",
       "    <tr style=\"text-align: right;\">\n",
       "      <th></th>\n",
       "      <th>artist</th>\n",
       "      <th>auth</th>\n",
       "      <th>firstName</th>\n",
       "      <th>gender</th>\n",
       "      <th>itemInSession</th>\n",
       "      <th>lastName</th>\n",
       "      <th>length</th>\n",
       "      <th>level</th>\n",
       "      <th>location</th>\n",
       "      <th>method</th>\n",
       "      <th>page</th>\n",
       "      <th>registration</th>\n",
       "      <th>sessionId</th>\n",
       "      <th>song</th>\n",
       "      <th>status</th>\n",
       "      <th>ts</th>\n",
       "      <th>userAgent</th>\n",
       "      <th>userId</th>\n",
       "    </tr>\n",
       "  </thead>\n",
       "  <tbody>\n",
       "    <tr>\n",
       "      <th>0</th>\n",
       "      <td>Martha Tilston</td>\n",
       "      <td>Logged In</td>\n",
       "      <td>Colin</td>\n",
       "      <td>M</td>\n",
       "      <td>50</td>\n",
       "      <td>Freeman</td>\n",
       "      <td>277.89016</td>\n",
       "      <td>paid</td>\n",
       "      <td>Bakersfield, CA</td>\n",
       "      <td>PUT</td>\n",
       "      <td>NextSong</td>\n",
       "      <td>1538173362000</td>\n",
       "      <td>29</td>\n",
       "      <td>Rockpools</td>\n",
       "      <td>200</td>\n",
       "      <td>1538352117000</td>\n",
       "      <td>Mozilla/5.0 (Windows NT 6.1; WOW64; rv:31.0) G...</td>\n",
       "      <td>30</td>\n",
       "    </tr>\n",
       "    <tr>\n",
       "      <th>1</th>\n",
       "      <td>Five Iron Frenzy</td>\n",
       "      <td>Logged In</td>\n",
       "      <td>Micah</td>\n",
       "      <td>M</td>\n",
       "      <td>79</td>\n",
       "      <td>Long</td>\n",
       "      <td>236.09424</td>\n",
       "      <td>free</td>\n",
       "      <td>Boston-Cambridge-Newton, MA-NH</td>\n",
       "      <td>PUT</td>\n",
       "      <td>NextSong</td>\n",
       "      <td>1538331630000</td>\n",
       "      <td>8</td>\n",
       "      <td>Canada</td>\n",
       "      <td>200</td>\n",
       "      <td>1538352180000</td>\n",
       "      <td>\"Mozilla/5.0 (Windows NT 6.1; WOW64) AppleWebK...</td>\n",
       "      <td>9</td>\n",
       "    </tr>\n",
       "    <tr>\n",
       "      <th>2</th>\n",
       "      <td>Adam Lambert</td>\n",
       "      <td>Logged In</td>\n",
       "      <td>Colin</td>\n",
       "      <td>M</td>\n",
       "      <td>51</td>\n",
       "      <td>Freeman</td>\n",
       "      <td>282.82730</td>\n",
       "      <td>paid</td>\n",
       "      <td>Bakersfield, CA</td>\n",
       "      <td>PUT</td>\n",
       "      <td>NextSong</td>\n",
       "      <td>1538173362000</td>\n",
       "      <td>29</td>\n",
       "      <td>Time For Miracles</td>\n",
       "      <td>200</td>\n",
       "      <td>1538352394000</td>\n",
       "      <td>Mozilla/5.0 (Windows NT 6.1; WOW64; rv:31.0) G...</td>\n",
       "      <td>30</td>\n",
       "    </tr>\n",
       "    <tr>\n",
       "      <th>3</th>\n",
       "      <td>Enigma</td>\n",
       "      <td>Logged In</td>\n",
       "      <td>Micah</td>\n",
       "      <td>M</td>\n",
       "      <td>80</td>\n",
       "      <td>Long</td>\n",
       "      <td>262.71302</td>\n",
       "      <td>free</td>\n",
       "      <td>Boston-Cambridge-Newton, MA-NH</td>\n",
       "      <td>PUT</td>\n",
       "      <td>NextSong</td>\n",
       "      <td>1538331630000</td>\n",
       "      <td>8</td>\n",
       "      <td>Knocking On Forbidden Doors</td>\n",
       "      <td>200</td>\n",
       "      <td>1538352416000</td>\n",
       "      <td>\"Mozilla/5.0 (Windows NT 6.1; WOW64) AppleWebK...</td>\n",
       "      <td>9</td>\n",
       "    </tr>\n",
       "  </tbody>\n",
       "</table>\n",
       "</div>"
      ],
      "text/plain": [
       "             artist       auth firstName gender  itemInSession lastName  \\\n",
       "0    Martha Tilston  Logged In     Colin      M             50  Freeman   \n",
       "1  Five Iron Frenzy  Logged In     Micah      M             79     Long   \n",
       "2      Adam Lambert  Logged In     Colin      M             51  Freeman   \n",
       "3            Enigma  Logged In     Micah      M             80     Long   \n",
       "\n",
       "      length level                        location method      page  \\\n",
       "0  277.89016  paid                 Bakersfield, CA    PUT  NextSong   \n",
       "1  236.09424  free  Boston-Cambridge-Newton, MA-NH    PUT  NextSong   \n",
       "2  282.82730  paid                 Bakersfield, CA    PUT  NextSong   \n",
       "3  262.71302  free  Boston-Cambridge-Newton, MA-NH    PUT  NextSong   \n",
       "\n",
       "    registration  sessionId                         song  status  \\\n",
       "0  1538173362000         29                    Rockpools     200   \n",
       "1  1538331630000          8                       Canada     200   \n",
       "2  1538173362000         29            Time For Miracles     200   \n",
       "3  1538331630000          8  Knocking On Forbidden Doors     200   \n",
       "\n",
       "              ts                                          userAgent userId  \n",
       "0  1538352117000  Mozilla/5.0 (Windows NT 6.1; WOW64; rv:31.0) G...     30  \n",
       "1  1538352180000  \"Mozilla/5.0 (Windows NT 6.1; WOW64) AppleWebK...      9  \n",
       "2  1538352394000  Mozilla/5.0 (Windows NT 6.1; WOW64; rv:31.0) G...     30  \n",
       "3  1538352416000  \"Mozilla/5.0 (Windows NT 6.1; WOW64) AppleWebK...      9  "
      ]
     },
     "execution_count": 19,
     "metadata": {},
     "output_type": "execute_result"
    }
   ],
   "source": [
    "# check some example values\n",
    "pd.DataFrame(data=event_log_valid.head(4), columns=event_log_valid.columns)"
   ]
  },
  {
   "cell_type": "code",
   "execution_count": 20,
   "metadata": {},
   "outputs": [
    {
     "name": "stdout",
     "output_type": "stream",
     "text": [
      "+---------+------+\n",
      "|     auth| count|\n",
      "+---------+------+\n",
      "|Cancelled|    52|\n",
      "|Logged In|278102|\n",
      "+---------+------+\n",
      "\n"
     ]
    }
   ],
   "source": [
    "# distribution of auth\n",
    "event_log_valid.groupBy(\"auth\").count().orderBy(\"auth\").show()"
   ]
  },
  {
   "cell_type": "code",
   "execution_count": 21,
   "metadata": {},
   "outputs": [
    {
     "name": "stdout",
     "output_type": "stream",
     "text": [
      "+------+------+\n",
      "|gender| count|\n",
      "+------+------+\n",
      "|     F|154578|\n",
      "|     M|123576|\n",
      "+------+------+\n",
      "\n"
     ]
    }
   ],
   "source": [
    "# distribution of gender\n",
    "event_log_valid.groupBy(\"gender\").count().orderBy(\"gender\").show()"
   ]
  },
  {
   "cell_type": "code",
   "execution_count": 22,
   "metadata": {},
   "outputs": [
    {
     "name": "stdout",
     "output_type": "stream",
     "text": [
      "+-----+------+\n",
      "|level| count|\n",
      "+-----+------+\n",
      "| free| 55721|\n",
      "| paid|222433|\n",
      "+-----+------+\n",
      "\n"
     ]
    }
   ],
   "source": [
    "# distribution of level\n",
    "event_log_valid.groupBy(\"level\").count().orderBy(\"level\").show()"
   ]
  },
  {
   "cell_type": "code",
   "execution_count": 23,
   "metadata": {},
   "outputs": [
    {
     "name": "stdout",
     "output_type": "stream",
     "text": [
      "+------+------+\n",
      "|method| count|\n",
      "+------+------+\n",
      "|   GET| 20336|\n",
      "|   PUT|257818|\n",
      "+------+------+\n",
      "\n"
     ]
    }
   ],
   "source": [
    "# distribution of method\n",
    "event_log_valid.groupBy(\"method\").count().orderBy(\"method\").show()"
   ]
  },
  {
   "cell_type": "code",
   "execution_count": 24,
   "metadata": {},
   "outputs": [
    {
     "name": "stdout",
     "output_type": "stream",
     "text": [
      "+--------------------+------+\n",
      "|                page| count|\n",
      "+--------------------+------+\n",
      "|               About|   495|\n",
      "|          Add Friend|  4277|\n",
      "|     Add to Playlist|  6526|\n",
      "|              Cancel|    52|\n",
      "|Cancellation Conf...|    52|\n",
      "|           Downgrade|  2055|\n",
      "|               Error|   252|\n",
      "|                Help|  1454|\n",
      "|                Home| 10082|\n",
      "|              Logout|  3226|\n",
      "|            NextSong|228108|\n",
      "|         Roll Advert|  3933|\n",
      "|       Save Settings|   310|\n",
      "|            Settings|  1514|\n",
      "|    Submit Downgrade|    63|\n",
      "|      Submit Upgrade|   159|\n",
      "|         Thumbs Down|  2546|\n",
      "|           Thumbs Up| 12551|\n",
      "|             Upgrade|   499|\n",
      "+--------------------+------+\n",
      "\n"
     ]
    }
   ],
   "source": [
    "# examples of page\n",
    "event_log_valid.groupBy(\"page\").count().orderBy(\"page\").show()"
   ]
  },
  {
   "cell_type": "code",
   "execution_count": 25,
   "metadata": {},
   "outputs": [
    {
     "name": "stdout",
     "output_type": "stream",
     "text": [
      "+------+------+\n",
      "|status| count|\n",
      "+------+------+\n",
      "|   200|254718|\n",
      "|   307| 23184|\n",
      "|   404|   252|\n",
      "+------+------+\n",
      "\n"
     ]
    }
   ],
   "source": [
    "# examples of status\n",
    "event_log_valid.groupBy(\"status\").count().orderBy(\"status\").show()"
   ]
  },
  {
   "cell_type": "markdown",
   "metadata": {},
   "source": [
    "#### 2.2.1.2 Ethics\n",
    "There are a few columns in the source data that could be considered containing sensitive data. Especially the 'firstName' and 'lastName' columns could violate the privacy of the users. Those fields in combination with other columns like the gender, location and what type of music a user is listening to might reveal personal things about an user. \n",
    "\n",
    "Even though I've assumed that this is fictive data, I've chosen not to use these fields for this project."
   ]
  },
  {
   "cell_type": "markdown",
   "metadata": {},
   "source": [
    "### 2.2.2 Add Time Variables\n",
    "Adding a few time variables which makes it easier to analyze the data."
   ]
  },
  {
   "cell_type": "code",
   "execution_count": 26,
   "metadata": {},
   "outputs": [],
   "source": [
    "# define functions\n",
    "get_year = udf(lambda x: datetime.datetime.fromtimestamp(x / 1000.0). year, IntegerType())\n",
    "get_month = udf(lambda x: datetime.datetime.fromtimestamp(x / 1000.0). month, IntegerType())\n",
    "get_day = udf(lambda x: datetime.datetime.fromtimestamp(x / 1000.0). day, IntegerType())\n",
    "get_hour = udf(lambda x: datetime.datetime.fromtimestamp(x / 1000.0). hour, IntegerType())\n",
    "get_yearMonth = udf(lambda x,y: (x * 100) + y, IntegerType())"
   ]
  },
  {
   "cell_type": "code",
   "execution_count": 27,
   "metadata": {},
   "outputs": [],
   "source": [
    "# add time variables\n",
    "event_log_valid = event_log_valid.withColumn(\"year\", get_year(event_log_valid.ts))\n",
    "event_log_valid = event_log_valid.withColumn(\"month\", get_month(event_log_valid.ts))\n",
    "event_log_valid = event_log_valid.withColumn(\"day\", get_day(event_log_valid.ts))\n",
    "event_log_valid = event_log_valid.withColumn(\"hour\", get_hour(event_log_valid.ts))\n",
    "event_log_valid = event_log_valid.withColumn(\"yearMonth\", get_yearMonth(event_log_valid.year, event_log_valid.month))"
   ]
  },
  {
   "cell_type": "code",
   "execution_count": 28,
   "metadata": {},
   "outputs": [
    {
     "data": {
      "text/plain": [
       "Row(artist='Martha Tilston', auth='Logged In', firstName='Colin', gender='M', itemInSession=50, lastName='Freeman', length=277.89016, level='paid', location='Bakersfield, CA', method='PUT', page='NextSong', registration=1538173362000, sessionId=29, song='Rockpools', status=200, ts=1538352117000, userAgent='Mozilla/5.0 (Windows NT 6.1; WOW64; rv:31.0) Gecko/20100101 Firefox/31.0', userId='30', year=2018, month=10, day=1, hour=0, yearMonth=201810)"
      ]
     },
     "execution_count": 28,
     "metadata": {},
     "output_type": "execute_result"
    }
   ],
   "source": [
    "# check example\n",
    "event_log_valid.head()"
   ]
  },
  {
   "cell_type": "code",
   "execution_count": 29,
   "metadata": {},
   "outputs": [
    {
     "name": "stdout",
     "output_type": "stream",
     "text": [
      "+----+-----+------+\n",
      "|year|month| count|\n",
      "+----+-----+------+\n",
      "|2018|   10|144916|\n",
      "|2018|   11|133234|\n",
      "|2018|   12|     4|\n",
      "+----+-----+------+\n",
      "\n"
     ]
    }
   ],
   "source": [
    "# calculate statistics by Month\n",
    "event_log_valid.groupby([event_log_valid.year, event_log_valid.month]).count() \\\n",
    "               .orderBy([event_log_valid.year, event_log_valid.month]) \\\n",
    "               .show()"
   ]
  },
  {
   "cell_type": "markdown",
   "metadata": {},
   "source": [
    "### 2.2.3 Define Churn\n",
    "Churn is defined as when the page status is equal to 'Cancellation Confirmation'. This can happen for both paid and free users."
   ]
  },
  {
   "cell_type": "code",
   "execution_count": 30,
   "metadata": {},
   "outputs": [
    {
     "name": "stdout",
     "output_type": "stream",
     "text": [
      "+------+---------+---------+------+-------------+--------+------+-----+--------------------+------+--------------------+-------------+---------+----+------+-------------+--------------------+------+----+-----+---+----+---------+\n",
      "|artist|     auth|firstName|gender|itemInSession|lastName|length|level|            location|method|                page| registration|sessionId|song|status|           ts|           userAgent|userId|year|month|day|hour|yearMonth|\n",
      "+------+---------+---------+------+-------------+--------+------+-----+--------------------+------+--------------------+-------------+---------+----+------+-------------+--------------------+------+----+-----+---+----+---------+\n",
      "|  null|Cancelled|   Adriel|     M|          104| Mendoza|  null| paid|  Kansas City, MO-KS|   GET|Cancellation Conf...|1535623466000|      514|null|   200|1538943990000|\"Mozilla/5.0 (Mac...|    18|2018|   10|  7|  20|   201810|\n",
      "|  null|Cancelled|    Diego|     M|           56|   Mckee|  null| paid|Phoenix-Mesa-Scot...|   GET|Cancellation Conf...|1537167593000|      540|null|   200|1539033046000|\"Mozilla/5.0 (iPh...|    32|2018|   10|  8|  21|   201810|\n",
      "|  null|Cancelled|    Mason|     M|           10|    Hart|  null| free|  Corpus Christi, TX|   GET|Cancellation Conf...|1533157139000|      174|null|   200|1539318918000|\"Mozilla/5.0 (Mac...|   125|2018|   10| 12|   4|   201810|\n",
      "+------+---------+---------+------+-------------+--------+------+-----+--------------------+------+--------------------+-------------+---------+----+------+-------------+--------------------+------+----+-----+---+----+---------+\n",
      "only showing top 3 rows\n",
      "\n"
     ]
    }
   ],
   "source": [
    "# find churn example\n",
    "event_log_valid.filter(\"page = 'Cancellation Confirmation'\").show(3)"
   ]
  },
  {
   "cell_type": "code",
   "execution_count": 31,
   "metadata": {},
   "outputs": [
    {
     "name": "stdout",
     "output_type": "stream",
     "text": [
      "+------+-------------+----+-----+---+--------------------+-----+\n",
      "|userId|           ts|year|month|day|                page|level|\n",
      "+------+-------------+----+-----+---+--------------------+-----+\n",
      "|    32|1539032741000|2018|   10|  8|            NextSong| paid|\n",
      "|    32|1539032978000|2018|   10|  8|            NextSong| paid|\n",
      "|    32|1539033030000|2018|   10|  8|           Downgrade| paid|\n",
      "|    32|1539033031000|2018|   10|  8|              Cancel| paid|\n",
      "|    32|1539033046000|2018|   10|  8|Cancellation Conf...| paid|\n",
      "+------+-------------+----+-----+---+--------------------+-----+\n",
      "\n"
     ]
    }
   ],
   "source": [
    "# show events for example user\n",
    "event_log_valid.select([\"userId\", \"ts\", \"year\", \"month\", \"day\", \"page\", \"level\"]) \\\n",
    "               .where((event_log_valid.userId == \"32\") & (event_log_valid.ts > 1539032608000)) \\\n",
    "               .show(5)"
   ]
  },
  {
   "cell_type": "code",
   "execution_count": 32,
   "metadata": {},
   "outputs": [],
   "source": [
    "# function for flagging churn\n",
    "flag_churn_event = udf(lambda x: 1 if x == \"Cancellation Confirmation\" else 0, IntegerType())"
   ]
  },
  {
   "cell_type": "code",
   "execution_count": 33,
   "metadata": {},
   "outputs": [
    {
     "data": {
      "text/plain": [
       "Row(artist='Martha Tilston', auth='Logged In', firstName='Colin', gender='M', itemInSession=50, lastName='Freeman', length=277.89016, level='paid', location='Bakersfield, CA', method='PUT', page='NextSong', registration=1538173362000, sessionId=29, song='Rockpools', status=200, ts=1538352117000, userAgent='Mozilla/5.0 (Windows NT 6.1; WOW64; rv:31.0) Gecko/20100101 Firefox/31.0', userId='30', year=2018, month=10, day=1, hour=0, yearMonth=201810, churn=0)"
      ]
     },
     "execution_count": 33,
     "metadata": {},
     "output_type": "execute_result"
    }
   ],
   "source": [
    "# add churn variable\n",
    "event_log_valid = event_log_valid.withColumn(\"churn\", flag_churn_event(\"page\"))\n",
    "\n",
    "# check example\n",
    "event_log_valid.head()"
   ]
  },
  {
   "cell_type": "code",
   "execution_count": 34,
   "metadata": {},
   "outputs": [
    {
     "name": "stdout",
     "output_type": "stream",
     "text": [
      "+------+----+-----+---+--------------------+-----+-----+\n",
      "|userId|year|month|day|                page|level|churn|\n",
      "+------+----+-----+---+--------------------+-----+-----+\n",
      "|    32|2018|   10|  8|            NextSong| paid|    0|\n",
      "|    32|2018|   10|  8|            NextSong| paid|    0|\n",
      "|    32|2018|   10|  8|           Downgrade| paid|    0|\n",
      "|    32|2018|   10|  8|              Cancel| paid|    0|\n",
      "|    32|2018|   10|  8|Cancellation Conf...| paid|    1|\n",
      "+------+----+-----+---+--------------------+-----+-----+\n",
      "\n"
     ]
    }
   ],
   "source": [
    "# show events for example user including churn column\n",
    "event_log_valid.select([\"userId\", \"year\", \"month\", \"day\", \"page\", \"level\", \"churn\"]) \\\n",
    "               .where((event_log_valid.userId == \"32\") & (event_log_valid.ts > 1539032608000)) \\\n",
    "               .show(5)"
   ]
  },
  {
   "cell_type": "markdown",
   "metadata": {},
   "source": [
    "### 2.2.4 Explore Data"
   ]
  },
  {
   "cell_type": "markdown",
   "metadata": {},
   "source": [
    "#### 2.2.4.1 General"
   ]
  },
  {
   "cell_type": "code",
   "execution_count": 35,
   "metadata": {},
   "outputs": [
    {
     "name": "stdout",
     "output_type": "stream",
     "text": [
      "root\n",
      " |-- artist: string (nullable = true)\n",
      " |-- auth: string (nullable = true)\n",
      " |-- firstName: string (nullable = true)\n",
      " |-- gender: string (nullable = true)\n",
      " |-- itemInSession: long (nullable = true)\n",
      " |-- lastName: string (nullable = true)\n",
      " |-- length: double (nullable = true)\n",
      " |-- level: string (nullable = true)\n",
      " |-- location: string (nullable = true)\n",
      " |-- method: string (nullable = true)\n",
      " |-- page: string (nullable = true)\n",
      " |-- registration: long (nullable = true)\n",
      " |-- sessionId: long (nullable = true)\n",
      " |-- song: string (nullable = true)\n",
      " |-- status: long (nullable = true)\n",
      " |-- ts: long (nullable = true)\n",
      " |-- userAgent: string (nullable = true)\n",
      " |-- userId: string (nullable = true)\n",
      " |-- year: integer (nullable = true)\n",
      " |-- month: integer (nullable = true)\n",
      " |-- day: integer (nullable = true)\n",
      " |-- hour: integer (nullable = true)\n",
      " |-- yearMonth: integer (nullable = true)\n",
      " |-- churn: integer (nullable = true)\n",
      "\n"
     ]
    }
   ],
   "source": [
    "# check which columns exist\n",
    "event_log_valid.printSchema()"
   ]
  },
  {
   "cell_type": "code",
   "execution_count": 36,
   "metadata": {},
   "outputs": [
    {
     "data": {
      "text/html": [
       "<div>\n",
       "<style scoped>\n",
       "    .dataframe tbody tr th:only-of-type {\n",
       "        vertical-align: middle;\n",
       "    }\n",
       "\n",
       "    .dataframe tbody tr th {\n",
       "        vertical-align: top;\n",
       "    }\n",
       "\n",
       "    .dataframe thead th {\n",
       "        text-align: right;\n",
       "    }\n",
       "</style>\n",
       "<table border=\"1\" class=\"dataframe\">\n",
       "  <thead>\n",
       "    <tr style=\"text-align: right;\">\n",
       "      <th></th>\n",
       "      <th>summary</th>\n",
       "      <th>itemInSession</th>\n",
       "      <th>length</th>\n",
       "      <th>registration</th>\n",
       "      <th>sessionId</th>\n",
       "      <th>status</th>\n",
       "      <th>ts</th>\n",
       "      <th>churn</th>\n",
       "      <th>year</th>\n",
       "      <th>month</th>\n",
       "      <th>day</th>\n",
       "      <th>hour</th>\n",
       "      <th>yearMonth</th>\n",
       "    </tr>\n",
       "  </thead>\n",
       "  <tbody>\n",
       "    <tr>\n",
       "      <th>0</th>\n",
       "      <td>count</td>\n",
       "      <td>278154</td>\n",
       "      <td>228108</td>\n",
       "      <td>278154</td>\n",
       "      <td>278154</td>\n",
       "      <td>278154</td>\n",
       "      <td>278154</td>\n",
       "      <td>278154</td>\n",
       "      <td>278154</td>\n",
       "      <td>278154</td>\n",
       "      <td>278154</td>\n",
       "      <td>278154</td>\n",
       "      <td>278154</td>\n",
       "    </tr>\n",
       "    <tr>\n",
       "      <th>1</th>\n",
       "      <td>mean</td>\n",
       "      <td>114.89918174824018</td>\n",
       "      <td>249.1171819778458</td>\n",
       "      <td>1.5353588340844272E12</td>\n",
       "      <td>1042.5616241362698</td>\n",
       "      <td>209.10321620397335</td>\n",
       "      <td>1.5409589154318713E12</td>\n",
       "      <td>1.869467992550889E-4</td>\n",
       "      <td>2018.0</td>\n",
       "      <td>10.479022412045126</td>\n",
       "      <td>15.793574782314833</td>\n",
       "      <td>12.20457372534639</td>\n",
       "      <td>201810.47902241204</td>\n",
       "    </tr>\n",
       "    <tr>\n",
       "      <th>2</th>\n",
       "      <td>stddev</td>\n",
       "      <td>129.851729399489</td>\n",
       "      <td>99.23517921058361</td>\n",
       "      <td>3.291321616327586E9</td>\n",
       "      <td>726.5010362219813</td>\n",
       "      <td>30.151388851328214</td>\n",
       "      <td>1.5068287123306298E9</td>\n",
       "      <td>0.013671595449116164</td>\n",
       "      <td>0.0</td>\n",
       "      <td>0.4995894305896185</td>\n",
       "      <td>8.926525825029135</td>\n",
       "      <td>6.865469990132577</td>\n",
       "      <td>0.49958942988950344</td>\n",
       "    </tr>\n",
       "    <tr>\n",
       "      <th>3</th>\n",
       "      <td>min</td>\n",
       "      <td>0</td>\n",
       "      <td>0.78322</td>\n",
       "      <td>1521380675000</td>\n",
       "      <td>1</td>\n",
       "      <td>200</td>\n",
       "      <td>1538352117000</td>\n",
       "      <td>0</td>\n",
       "      <td>2018</td>\n",
       "      <td>10</td>\n",
       "      <td>1</td>\n",
       "      <td>0</td>\n",
       "      <td>201810</td>\n",
       "    </tr>\n",
       "    <tr>\n",
       "      <th>4</th>\n",
       "      <td>max</td>\n",
       "      <td>1321</td>\n",
       "      <td>3024.66567</td>\n",
       "      <td>1543247354000</td>\n",
       "      <td>2474</td>\n",
       "      <td>404</td>\n",
       "      <td>1543799476000</td>\n",
       "      <td>1</td>\n",
       "      <td>2018</td>\n",
       "      <td>12</td>\n",
       "      <td>31</td>\n",
       "      <td>23</td>\n",
       "      <td>201812</td>\n",
       "    </tr>\n",
       "  </tbody>\n",
       "</table>\n",
       "</div>"
      ],
      "text/plain": [
       "  summary       itemInSession             length           registration  \\\n",
       "0   count              278154             228108                 278154   \n",
       "1    mean  114.89918174824018  249.1171819778458  1.5353588340844272E12   \n",
       "2  stddev    129.851729399489  99.23517921058361    3.291321616327586E9   \n",
       "3     min                   0            0.78322          1521380675000   \n",
       "4     max                1321         3024.66567          1543247354000   \n",
       "\n",
       "            sessionId              status                     ts  \\\n",
       "0              278154              278154                 278154   \n",
       "1  1042.5616241362698  209.10321620397335  1.5409589154318713E12   \n",
       "2   726.5010362219813  30.151388851328214   1.5068287123306298E9   \n",
       "3                   1                 200          1538352117000   \n",
       "4                2474                 404          1543799476000   \n",
       "\n",
       "                  churn    year               month                 day  \\\n",
       "0                278154  278154              278154              278154   \n",
       "1  1.869467992550889E-4  2018.0  10.479022412045126  15.793574782314833   \n",
       "2  0.013671595449116164     0.0  0.4995894305896185   8.926525825029135   \n",
       "3                     0    2018                  10                   1   \n",
       "4                     1    2018                  12                  31   \n",
       "\n",
       "                hour            yearMonth  \n",
       "0             278154               278154  \n",
       "1  12.20457372534639   201810.47902241204  \n",
       "2  6.865469990132577  0.49958942988950344  \n",
       "3                  0               201810  \n",
       "4                 23               201812  "
      ]
     },
     "execution_count": 36,
     "metadata": {},
     "output_type": "execute_result"
    }
   ],
   "source": [
    "# check statistics for numeric columns\n",
    "num_cols = [\"itemInSession\", \"length\", \"registration\", \"sessionId\", \n",
    "            \"status\", \"ts\", \"churn\", \"year\", \"month\", \"day\", \"hour\", \"yearMonth\"]\n",
    "num_desc = event_log_valid.select(num_cols).describe()\n",
    "num_desc_pd = num_desc.toPandas()\n",
    "num_desc_pd"
   ]
  },
  {
   "cell_type": "markdown",
   "metadata": {},
   "source": [
    "#### 2.2.4.2 yearMonth\n",
    "The dataset only contains two months of data (only 4 rows for the third month) which makes it hard to create features that take into account trends."
   ]
  },
  {
   "cell_type": "code",
   "execution_count": 37,
   "metadata": {},
   "outputs": [
    {
     "data": {
      "text/html": [
       "<div>\n",
       "<style scoped>\n",
       "    .dataframe tbody tr th:only-of-type {\n",
       "        vertical-align: middle;\n",
       "    }\n",
       "\n",
       "    .dataframe tbody tr th {\n",
       "        vertical-align: top;\n",
       "    }\n",
       "\n",
       "    .dataframe thead th {\n",
       "        text-align: right;\n",
       "    }\n",
       "</style>\n",
       "<table border=\"1\" class=\"dataframe\">\n",
       "  <thead>\n",
       "    <tr style=\"text-align: right;\">\n",
       "      <th></th>\n",
       "      <th>yearMonth</th>\n",
       "      <th>count</th>\n",
       "    </tr>\n",
       "  </thead>\n",
       "  <tbody>\n",
       "    <tr>\n",
       "      <th>0</th>\n",
       "      <td>201810</td>\n",
       "      <td>144916</td>\n",
       "    </tr>\n",
       "    <tr>\n",
       "      <th>1</th>\n",
       "      <td>201811</td>\n",
       "      <td>133234</td>\n",
       "    </tr>\n",
       "    <tr>\n",
       "      <th>2</th>\n",
       "      <td>201812</td>\n",
       "      <td>4</td>\n",
       "    </tr>\n",
       "  </tbody>\n",
       "</table>\n",
       "</div>"
      ],
      "text/plain": [
       "   yearMonth   count\n",
       "0     201810  144916\n",
       "1     201811  133234\n",
       "2     201812       4"
      ]
     },
     "execution_count": 37,
     "metadata": {},
     "output_type": "execute_result"
    }
   ],
   "source": [
    "# calculate statistics by year and month\n",
    "year_month = event_log_valid.groupby([event_log_valid.yearMonth]) \\\n",
    "                           .count() \\\n",
    "                           .orderBy([event_log_valid.yearMonth]) \n",
    "\n",
    "# convert to pandas df\n",
    "year_month_pd = year_month.toPandas()\n",
    "year_month_pd"
   ]
  },
  {
   "cell_type": "code",
   "execution_count": 38,
   "metadata": {},
   "outputs": [
    {
     "data": {
      "image/png": "[encoded data removed]",
      "text/plain": [
       "<matplotlib.figure.Figure at 0x7f25fb437c18>"
      ]
     },
     "metadata": {},
     "output_type": "display_data"
    }
   ],
   "source": [
    "# visualize frequency over time\n",
    "year_month_pd.plot.bar(x='yearMonth', y='count', color='C0')\n",
    "plt.show()"
   ]
  },
  {
   "cell_type": "markdown",
   "metadata": {},
   "source": [
    "#### 2.2.4.3 Churn\n",
    "As we can see, the churn target variable is unbalanced since around 23% of all users having churned (52 / 225)."
   ]
  },
  {
   "cell_type": "code",
   "execution_count": 39,
   "metadata": {},
   "outputs": [
    {
     "name": "stdout",
     "output_type": "stream",
     "text": [
      "+-----+------+\n",
      "|churn| count|\n",
      "+-----+------+\n",
      "|    0|278102|\n",
      "|    1|    52|\n",
      "+-----+------+\n",
      "\n"
     ]
    }
   ],
   "source": [
    "# aggregate churn by event\n",
    "events_in_churn = event_log_valid.groupby(event_log_valid.churn).count() \\\n",
    "                                 .orderBy(event_log_valid.churn)\n",
    "events_in_churn.show()"
   ]
  },
  {
   "cell_type": "code",
   "execution_count": 40,
   "metadata": {},
   "outputs": [
    {
     "name": "stdout",
     "output_type": "stream",
     "text": [
      "+------+------+-----+\n",
      "|userId|gender|churn|\n",
      "+------+------+-----+\n",
      "|    44|     F|    0|\n",
      "|    46|     F|    0|\n",
      "|    41|     F|    0|\n",
      "|    72|     F|    0|\n",
      "|300023|     F|    0|\n",
      "+------+------+-----+\n",
      "only showing top 5 rows\n",
      "\n"
     ]
    }
   ],
   "source": [
    "# aggregate churn by userId\n",
    "users_in_churn = event_log_valid.groupby(event_log_valid.userId,\n",
    "                                         event_log_valid.gender).agg({\"churn\": \"max\"}) \n",
    "\n",
    "# rename aggregated columns\n",
    "users_in_churn = users_in_churn.select(col(\"userId\"),\n",
    "                                       col(\"gender\"),\n",
    "                                       col(\"max(churn)\").alias(\"churn\"))\n",
    "\n",
    "# show examples\n",
    "users_in_churn.show(5)"
   ]
  },
  {
   "cell_type": "code",
   "execution_count": 41,
   "metadata": {},
   "outputs": [
    {
     "data": {
      "text/html": [
       "<div>\n",
       "<style scoped>\n",
       "    .dataframe tbody tr th:only-of-type {\n",
       "        vertical-align: middle;\n",
       "    }\n",
       "\n",
       "    .dataframe tbody tr th {\n",
       "        vertical-align: top;\n",
       "    }\n",
       "\n",
       "    .dataframe thead th {\n",
       "        text-align: right;\n",
       "    }\n",
       "</style>\n",
       "<table border=\"1\" class=\"dataframe\">\n",
       "  <thead>\n",
       "    <tr style=\"text-align: right;\">\n",
       "      <th></th>\n",
       "      <th>churn</th>\n",
       "      <th>count</th>\n",
       "    </tr>\n",
       "  </thead>\n",
       "  <tbody>\n",
       "    <tr>\n",
       "      <th>0</th>\n",
       "      <td>0</td>\n",
       "      <td>173</td>\n",
       "    </tr>\n",
       "    <tr>\n",
       "      <th>1</th>\n",
       "      <td>1</td>\n",
       "      <td>52</td>\n",
       "    </tr>\n",
       "  </tbody>\n",
       "</table>\n",
       "</div>"
      ],
      "text/plain": [
       "   churn  count\n",
       "0      0    173\n",
       "1      1     52"
      ]
     },
     "execution_count": 41,
     "metadata": {},
     "output_type": "execute_result"
    }
   ],
   "source": [
    "# distribution by churn\n",
    "dist_churn = users_in_churn.groupby(users_in_churn.churn) \\\n",
    "                           .count() \\\n",
    "                           .orderBy(users_in_churn.churn)\n",
    "dist_churn_pd = dist_churn.toPandas()\n",
    "dist_churn_pd"
   ]
  },
  {
   "cell_type": "code",
   "execution_count": 42,
   "metadata": {},
   "outputs": [
    {
     "data": {
      "image/png": "[encoded data removed]",
      "text/plain": [
       "<matplotlib.figure.Figure at 0x7f25fb410e10>"
      ]
     },
     "metadata": {},
     "output_type": "display_data"
    }
   ],
   "source": [
    "# visualize churn distribution\n",
    "dist_churn_pd.plot.barh(x='churn', y='count', color='C0')\n",
    "plt.show()"
   ]
  },
  {
   "cell_type": "markdown",
   "metadata": {},
   "source": [
    "#### 2.2.4.4 User Gender by Churn\n",
    "Looks like females are slightly less likely to churn."
   ]
  },
  {
   "cell_type": "code",
   "execution_count": 43,
   "metadata": {},
   "outputs": [
    {
     "data": {
      "text/html": [
       "<div>\n",
       "<style scoped>\n",
       "    .dataframe tbody tr th:only-of-type {\n",
       "        vertical-align: middle;\n",
       "    }\n",
       "\n",
       "    .dataframe tbody tr th {\n",
       "        vertical-align: top;\n",
       "    }\n",
       "\n",
       "    .dataframe thead th {\n",
       "        text-align: right;\n",
       "    }\n",
       "</style>\n",
       "<table border=\"1\" class=\"dataframe\">\n",
       "  <thead>\n",
       "    <tr style=\"text-align: right;\">\n",
       "      <th></th>\n",
       "      <th>churn</th>\n",
       "      <th>gender</th>\n",
       "      <th>count</th>\n",
       "    </tr>\n",
       "  </thead>\n",
       "  <tbody>\n",
       "    <tr>\n",
       "      <th>0</th>\n",
       "      <td>0</td>\n",
       "      <td>M</td>\n",
       "      <td>89</td>\n",
       "    </tr>\n",
       "    <tr>\n",
       "      <th>1</th>\n",
       "      <td>0</td>\n",
       "      <td>F</td>\n",
       "      <td>84</td>\n",
       "    </tr>\n",
       "    <tr>\n",
       "      <th>2</th>\n",
       "      <td>1</td>\n",
       "      <td>F</td>\n",
       "      <td>20</td>\n",
       "    </tr>\n",
       "    <tr>\n",
       "      <th>3</th>\n",
       "      <td>1</td>\n",
       "      <td>M</td>\n",
       "      <td>32</td>\n",
       "    </tr>\n",
       "  </tbody>\n",
       "</table>\n",
       "</div>"
      ],
      "text/plain": [
       "   churn gender  count\n",
       "0      0      M     89\n",
       "1      0      F     84\n",
       "2      1      F     20\n",
       "3      1      M     32"
      ]
     },
     "execution_count": 43,
     "metadata": {},
     "output_type": "execute_result"
    }
   ],
   "source": [
    "# distribution by churn\n",
    "dist_churn_gender = users_in_churn.groupby(users_in_churn.churn, users_in_churn.gender) \\\n",
    "                           .count() \\\n",
    "                           .orderBy(users_in_churn.churn)\n",
    "dist_churn_gender_pd = dist_churn_gender.toPandas()\n",
    "\n",
    "# visualize churn distribution\n",
    "dist_churn_gender_pd.head()"
   ]
  },
  {
   "cell_type": "markdown",
   "metadata": {},
   "source": [
    "#### 2.2.4.5 User Songs Played by Churn\n",
    "We see that if a user has listened to a large number of songs it's unlikely they will churn."
   ]
  },
  {
   "cell_type": "code",
   "execution_count": 44,
   "metadata": {},
   "outputs": [],
   "source": [
    "# define function to flag songs\n",
    "flag_song = udf(lambda x: 1 if x == \"NextSong\" else 0, IntegerType())"
   ]
  },
  {
   "cell_type": "code",
   "execution_count": 45,
   "metadata": {},
   "outputs": [
    {
     "data": {
      "image/png": "[encoded data removed]",
      "text/plain": [
       "<matplotlib.figure.Figure at 0x7f25f8b555c0>"
      ]
     },
     "metadata": {},
     "output_type": "display_data"
    }
   ],
   "source": [
    "# add songs variable\n",
    "event_log_valid = event_log_valid.withColumn(\"song\", flag_song(\"page\"))\n",
    "\n",
    "# aggregate churn by userId\n",
    "user_song = event_log_valid.groupby(event_log_valid.userId).agg({\"churn\": \"max\",\n",
    "                                                                 \"song\": \"sum\"}) \n",
    "\n",
    "# rename aggregated columns\n",
    "user_song = user_song.select(col(\"userId\"),\n",
    "                             col(\"max(churn)\").alias(\"churn\"),\n",
    "                             col(\"sum(song)\").alias(\"song\"))\n",
    "\n",
    "# convert to pandas and visualize\n",
    "user_song_pd = user_song.toPandas()\n",
    "user_song_pd.plot.scatter(x='churn', y='song', color='C0')\n",
    "plt.show()"
   ]
  },
  {
   "cell_type": "markdown",
   "metadata": {},
   "source": [
    "----\n",
    "# 3. Methodology"
   ]
  },
  {
   "cell_type": "markdown",
   "metadata": {},
   "source": [
    "## 3.1 Data Preprocessing"
   ]
  },
  {
   "cell_type": "markdown",
   "metadata": {},
   "source": [
    "### 3.1.1 Limit Columns\n",
    "Filter out columns not needed further on."
   ]
  },
  {
   "cell_type": "code",
   "execution_count": 46,
   "metadata": {},
   "outputs": [
    {
     "data": {
      "text/plain": [
       "Row(artist='Martha Tilston', auth='Logged In', firstName='Colin', gender='M', itemInSession=50, lastName='Freeman', length=277.89016, level='paid', location='Bakersfield, CA', method='PUT', page='NextSong', registration=1538173362000, sessionId=29, song=1, status=200, ts=1538352117000, userAgent='Mozilla/5.0 (Windows NT 6.1; WOW64; rv:31.0) Gecko/20100101 Firefox/31.0', userId='30', year=2018, month=10, day=1, hour=0, yearMonth=201810, churn=0)"
      ]
     },
     "execution_count": 46,
     "metadata": {},
     "output_type": "execute_result"
    }
   ],
   "source": [
    "# display all available columns\n",
    "event_log_valid.head()"
   ]
  },
  {
   "cell_type": "code",
   "execution_count": 47,
   "metadata": {},
   "outputs": [
    {
     "name": "stdout",
     "output_type": "stream",
     "text": [
      "+------+------+-----+--------+-------------+---------+-------------+-----+\n",
      "|userId|gender|level|    page| registration|sessionId|           ts|churn|\n",
      "+------+------+-----+--------+-------------+---------+-------------+-----+\n",
      "|    30|     M| paid|NextSong|1538173362000|       29|1538352117000|    0|\n",
      "+------+------+-----+--------+-------------+---------+-------------+-----+\n",
      "only showing top 1 row\n",
      "\n"
     ]
    }
   ],
   "source": [
    "# filter to only include columns needed\n",
    "event = event_log_valid.select([\"userId\", \"gender\", \"level\", \"page\", \"registration\", \"sessionId\", \"ts\", \"churn\"])\n",
    "\n",
    "# display example\n",
    "event.show(1)"
   ]
  },
  {
   "cell_type": "markdown",
   "metadata": {},
   "source": [
    "### 3.1.2 Feature Engineering\n",
    "Create new features derived from available data. The following features were created:\n",
    "\n",
    "| Type | Feature | Description |\n",
    "| --- | :- | :- |\n",
    "| Categorical | downgraded | Indicate if a user have ever downgraded from the paid service to the free service. |\n",
    "| Categorical | gender_male | Indicate if a user is male. |\n",
    "| Categorical | level_paid | Indicate if a user has paid for the service at some point in time. |\n",
    "| Continuous | timeSinceRegistration | Difference between last event and registration for a user. |\n",
    "| Continuous | playlistSongs | Number of songs that have been added to playlists for a user. |\n",
    "| Continuous | thumbsUp | Number of thumbs up events for a user. |\n",
    "| Continuous | thumbsDown | Number of thumbs down events for a user. |\n",
    "| Continuous | song | Average number of songs a user listened to during a session. |"
   ]
  },
  {
   "cell_type": "markdown",
   "metadata": {},
   "source": [
    "#### 3.1.2.1 downgraded"
   ]
  },
  {
   "cell_type": "code",
   "execution_count": 48,
   "metadata": {},
   "outputs": [],
   "source": [
    "# define function\n",
    "flag_downgrade_event = udf(lambda x: 1 if x == \"Submit Downgrade\" else 0, IntegerType())"
   ]
  },
  {
   "cell_type": "code",
   "execution_count": 49,
   "metadata": {},
   "outputs": [
    {
     "name": "stdout",
     "output_type": "stream",
     "text": [
      "+------+-------------+--------+----------+\n",
      "|userId|           ts|    page|downgraded|\n",
      "+------+-------------+--------+----------+\n",
      "|    32|1538578897000|NextSong|         0|\n",
      "|    32|1538579134000|NextSong|         0|\n",
      "|    32|1538579540000|NextSong|         0|\n",
      "+------+-------------+--------+----------+\n",
      "only showing top 3 rows\n",
      "\n"
     ]
    }
   ],
   "source": [
    "# add downgrade variable\n",
    "event = event.withColumn(\"downgraded\", flag_downgrade_event(\"page\"))\n",
    "event.select([\"userId\", \"ts\", \"page\", \"downgraded\"]).where(event.userId == \"32\").show(3)"
   ]
  },
  {
   "cell_type": "markdown",
   "metadata": {},
   "source": [
    "#### 3.1.2.2 gender_male\n"
   ]
  },
  {
   "cell_type": "code",
   "execution_count": 50,
   "metadata": {},
   "outputs": [],
   "source": [
    "# define function\n",
    "flag_gender = udf(lambda x: 1 if x == \"M\" else 0, IntegerType())"
   ]
  },
  {
   "cell_type": "code",
   "execution_count": 51,
   "metadata": {},
   "outputs": [
    {
     "name": "stdout",
     "output_type": "stream",
     "text": [
      "+------+------+-----------+\n",
      "|userId|gender|gender_male|\n",
      "+------+------+-----------+\n",
      "|    32|     M|          1|\n",
      "+------+------+-----------+\n",
      "only showing top 1 row\n",
      "\n"
     ]
    }
   ],
   "source": [
    "# add gender variable\n",
    "event = event.withColumn(\"gender_male\", flag_gender(\"gender\"))\n",
    "event.select([\"userId\", \"gender\", \"gender_male\"]).where(event.userId == \"32\").show(1)"
   ]
  },
  {
   "cell_type": "markdown",
   "metadata": {},
   "source": [
    "#### 3.1.2.3 level_paid\n",
    "Flag if the user has paid for the service at some point in time."
   ]
  },
  {
   "cell_type": "code",
   "execution_count": 52,
   "metadata": {},
   "outputs": [],
   "source": [
    "# define function\n",
    "flag_level = udf(lambda x: 1 if x == \"paid\" else 0, IntegerType())"
   ]
  },
  {
   "cell_type": "code",
   "execution_count": 53,
   "metadata": {},
   "outputs": [
    {
     "name": "stdout",
     "output_type": "stream",
     "text": [
      "+------+-------------+-----+----------+\n",
      "|userId|           ts|level|level_paid|\n",
      "+------+-------------+-----+----------+\n",
      "|    30|1538352117000| paid|         1|\n",
      "|    30|1538352394000| paid|         1|\n",
      "|    30|1538352676000| paid|         1|\n",
      "+------+-------------+-----+----------+\n",
      "only showing top 3 rows\n",
      "\n"
     ]
    }
   ],
   "source": [
    "# add gender variable\n",
    "event = event.withColumn(\"level_paid\", flag_level(\"level\"))\n",
    "event.select([\"userId\", \"ts\", \"level\", \"level_paid\"]).where(event.userId == \"30\").show(3)"
   ]
  },
  {
   "cell_type": "markdown",
   "metadata": {},
   "source": [
    "#### 3.1.2.4 timeSinceRegistration"
   ]
  },
  {
   "cell_type": "code",
   "execution_count": 54,
   "metadata": {},
   "outputs": [],
   "source": [
    "# define function\n",
    "calculate_time = udf(lambda x,y: x-y if x>=y else 0, LongType())"
   ]
  },
  {
   "cell_type": "code",
   "execution_count": 55,
   "metadata": {},
   "outputs": [
    {
     "name": "stdout",
     "output_type": "stream",
     "text": [
      "+------+-------------+-------------+---------------------+\n",
      "|userId|           ts| registration|timeSinceRegistration|\n",
      "+------+-------------+-------------+---------------------+\n",
      "|    32|1538578897000|1537167593000|           1411304000|\n",
      "|    32|1538579134000|1537167593000|           1411541000|\n",
      "|    32|1538579540000|1537167593000|           1411947000|\n",
      "+------+-------------+-------------+---------------------+\n",
      "only showing top 3 rows\n",
      "\n"
     ]
    }
   ],
   "source": [
    "# add gender variable\n",
    "event = event.withColumn(\"timeSinceRegistration\", calculate_time(\"ts\", \"registration\"))\n",
    "event.select([\"userId\", \"ts\", \"registration\", \"timeSinceRegistration\"]).where(event.userId == \"32\").show(3)"
   ]
  },
  {
   "cell_type": "markdown",
   "metadata": {},
   "source": [
    "#### 3.1.2.5 playlistSongs"
   ]
  },
  {
   "cell_type": "code",
   "execution_count": 56,
   "metadata": {},
   "outputs": [],
   "source": [
    "# define function\n",
    "flag_playlist_event = udf(lambda x: 1 if x == \"Add to Playlist\" else 0, IntegerType())"
   ]
  },
  {
   "cell_type": "code",
   "execution_count": 57,
   "metadata": {},
   "outputs": [
    {
     "name": "stdout",
     "output_type": "stream",
     "text": [
      "+------+-------------+---------------+-------------+\n",
      "|userId|           ts|           page|playlistSongs|\n",
      "+------+-------------+---------------+-------------+\n",
      "|    32|1538578897000|       NextSong|            0|\n",
      "|    32|1538579134000|       NextSong|            0|\n",
      "|    32|1538579540000|       NextSong|            0|\n",
      "|    32|1538579565000|    Roll Advert|            0|\n",
      "|    32|1538579814000|       NextSong|            0|\n",
      "|    32|1538579815000|      Thumbs Up|            0|\n",
      "|    32|1538580056000|       NextSong|            0|\n",
      "|    32|1538580068000|Add to Playlist|            1|\n",
      "|    32|1538580267000|       NextSong|            0|\n",
      "|    32|1538580477000|       NextSong|            0|\n",
      "+------+-------------+---------------+-------------+\n",
      "only showing top 10 rows\n",
      "\n"
     ]
    }
   ],
   "source": [
    "# add playlist variable\n",
    "event = event.withColumn(\"playlistSongs\", flag_playlist_event(\"page\"))\n",
    "event.select([\"userId\", \"ts\", \"page\", \"playlistSongs\"]).where(event.userId == \"32\").show(10)"
   ]
  },
  {
   "cell_type": "markdown",
   "metadata": {},
   "source": [
    "#### 3.1.2.6 thumbsUp"
   ]
  },
  {
   "cell_type": "code",
   "execution_count": 58,
   "metadata": {},
   "outputs": [],
   "source": [
    "# define function\n",
    "flag_thumbs_up = udf(lambda x: 1 if x == \"Thumbs Up\" else 0, IntegerType())"
   ]
  },
  {
   "cell_type": "code",
   "execution_count": 59,
   "metadata": {},
   "outputs": [
    {
     "name": "stdout",
     "output_type": "stream",
     "text": [
      "+------+-------------+-----------+--------+\n",
      "|userId|           ts|       page|thumbsUp|\n",
      "+------+-------------+-----------+--------+\n",
      "|    32|1538578897000|   NextSong|       0|\n",
      "|    32|1538579134000|   NextSong|       0|\n",
      "|    32|1538579540000|   NextSong|       0|\n",
      "|    32|1538579565000|Roll Advert|       0|\n",
      "|    32|1538579814000|   NextSong|       0|\n",
      "|    32|1538579815000|  Thumbs Up|       1|\n",
      "+------+-------------+-----------+--------+\n",
      "only showing top 6 rows\n",
      "\n"
     ]
    }
   ],
   "source": [
    "# add thumbs variables\n",
    "event = event.withColumn(\"thumbsUp\", flag_thumbs_up(\"page\"))\n",
    "event.select([\"userId\", \"ts\", \"page\", \"thumbsUp\"]).where(event.userId == \"32\").show(6)"
   ]
  },
  {
   "cell_type": "markdown",
   "metadata": {},
   "source": [
    "#### 3.1.2.7 thumbsDown"
   ]
  },
  {
   "cell_type": "code",
   "execution_count": 60,
   "metadata": {},
   "outputs": [],
   "source": [
    "# define function\n",
    "flag_thumbs_down = udf(lambda x: 1 if x == \"Thumbs Down\" else 0, IntegerType())"
   ]
  },
  {
   "cell_type": "code",
   "execution_count": 61,
   "metadata": {},
   "outputs": [
    {
     "name": "stdout",
     "output_type": "stream",
     "text": [
      "+------+-------------+-----------+----------+\n",
      "|userId|           ts|       page|thumbsDown|\n",
      "+------+-------------+-----------+----------+\n",
      "|    36|1538391194000|       Home|         0|\n",
      "|    36|1538391272000|   NextSong|         0|\n",
      "|    36|1538391273000|Thumbs Down|         1|\n",
      "+------+-------------+-----------+----------+\n",
      "only showing top 3 rows\n",
      "\n"
     ]
    }
   ],
   "source": [
    "# add thumbs variables\n",
    "event = event.withColumn(\"thumbsDown\", flag_thumbs_down(\"page\"))\n",
    "event.select([\"userId\", \"ts\", \"page\", \"thumbsDown\"]).where(event.userId == \"36\").show(3)"
   ]
  },
  {
   "cell_type": "markdown",
   "metadata": {},
   "source": [
    "#### 3.1.2.8 song"
   ]
  },
  {
   "cell_type": "code",
   "execution_count": 62,
   "metadata": {},
   "outputs": [],
   "source": [
    "# define function\n",
    "flag_song = udf(lambda x: 1 if x == \"NextSong\" else 0, IntegerType())"
   ]
  },
  {
   "cell_type": "code",
   "execution_count": 63,
   "metadata": {},
   "outputs": [
    {
     "name": "stdout",
     "output_type": "stream",
     "text": [
      "+------+---------+-------------+-----------+----+\n",
      "|userId|sessionId|           ts|       page|song|\n",
      "+------+---------+-------------+-----------+----+\n",
      "|    32|      218|1538578897000|   NextSong|   1|\n",
      "|    32|      218|1538579134000|   NextSong|   1|\n",
      "|    32|      218|1538579540000|   NextSong|   1|\n",
      "|    32|      218|1538579565000|Roll Advert|   0|\n",
      "|    32|      218|1538579814000|   NextSong|   1|\n",
      "+------+---------+-------------+-----------+----+\n",
      "only showing top 5 rows\n",
      "\n"
     ]
    }
   ],
   "source": [
    "# add songs variable\n",
    "event = event.withColumn(\"song\", flag_song(\"page\"))\n",
    "event.select([\"userId\", \"sessionId\", \"ts\", \"page\", \"song\"]).where(event.userId == \"32\").show(5)"
   ]
  },
  {
   "cell_type": "markdown",
   "metadata": {},
   "source": [
    "### 3.1.3 Create Session Features\n",
    "Aggregate the features that should be per session."
   ]
  },
  {
   "cell_type": "code",
   "execution_count": 64,
   "metadata": {},
   "outputs": [
    {
     "name": "stdout",
     "output_type": "stream",
     "text": [
      "+------+---------+----+\n",
      "|userId|sessionId|song|\n",
      "+------+---------+----+\n",
      "|    92|      358|  57|\n",
      "|    42|      433|  16|\n",
      "|   101|      635| 708|\n",
      "|   120|      627| 236|\n",
      "|   140|      798|   3|\n",
      "+------+---------+----+\n",
      "only showing top 5 rows\n",
      "\n"
     ]
    }
   ],
   "source": [
    "# aggregate by userId & sessionId\n",
    "session = event.groupby(event.userId, event.sessionId).agg({\"song\": \"sum\"}) \n",
    "\n",
    "# rename aggregated columns\n",
    "session = session.select(col(\"userId\"),\n",
    "                         col(\"sessionId\"),\n",
    "                         col(\"sum(song)\").alias(\"song\"))\n",
    "\n",
    "# present result\n",
    "session.show(5)"
   ]
  },
  {
   "cell_type": "markdown",
   "metadata": {},
   "source": [
    "### 3.1.4 Aggregate Features\n",
    "Aggregate all features up to user level since we want to predict churn based on users."
   ]
  },
  {
   "cell_type": "markdown",
   "metadata": {},
   "source": [
    "#### 3.1.4.1 Session Features\n",
    "Aggregate session level variables up to user level."
   ]
  },
  {
   "cell_type": "code",
   "execution_count": 65,
   "metadata": {},
   "outputs": [
    {
     "name": "stdout",
     "output_type": "stream",
     "text": [
      "+------+-----+\n",
      "|userId| song|\n",
      "+------+-----+\n",
      "|100010| 39.3|\n",
      "|200002| 64.5|\n",
      "|   125|  8.0|\n",
      "|    51|211.1|\n",
      "|   124|140.7|\n",
      "+------+-----+\n",
      "only showing top 5 rows\n",
      "\n"
     ]
    }
   ],
   "source": [
    "# aggregate by userId\n",
    "features_session = session.groupby(session.userId).agg({\"song\": \"avg\"}) \n",
    "\n",
    "# rename aggregated columns\n",
    "features_session = features_session.select(col(\"userId\"),\n",
    "                                           F.round(col(\"avg(song)\"), 1).alias(\"song\"))\n",
    "\n",
    "# present result\n",
    "features_session.show(5)"
   ]
  },
  {
   "cell_type": "markdown",
   "metadata": {},
   "source": [
    "#### 3.1.4.2 Event Features\n",
    "Aggregate event level variables up to user level."
   ]
  },
  {
   "cell_type": "code",
   "execution_count": 66,
   "metadata": {},
   "outputs": [
    {
     "name": "stdout",
     "output_type": "stream",
     "text": [
      "+------+----------+-----------+----------+---------------------+-------------+--------+----------+-----+\n",
      "|userId|downgraded|gender_male|level_paid|timeSinceRegistration|playlistSongs|thumbsUp|thumbsDown|churn|\n",
      "+------+----------+-----------+----------+---------------------+-------------+--------+----------+-----+\n",
      "|100010|         0|          0|         0|           4807612000|            7|      17|         5|    0|\n",
      "|200002|         0|          1|         1|           6054448000|            8|      21|         6|    0|\n",
      "|   125|         0|          1|         0|           6161779000|            0|       0|         0|    1|\n",
      "|    51|         0|          1|         1|           1680985000|           52|     100|        21|    1|\n",
      "|   124|         0|          0|         1|          11366431000|          118|     171|        41|    0|\n",
      "+------+----------+-----------+----------+---------------------+-------------+--------+----------+-----+\n",
      "only showing top 5 rows\n",
      "\n"
     ]
    }
   ],
   "source": [
    "# aggregate by userId\n",
    "features_event = event.groupby(event.userId).agg({\"downgraded\": \"max\", \n",
    "                                                  \"gender_male\": \"max\",\n",
    "                                                  \"level_paid\": \"max\",\n",
    "                                                  \"timeSinceRegistration\": \"max\",\n",
    "                                                  \"playlistSongs\": \"sum\",\n",
    "                                                  \"thumbsUp\": \"sum\",\n",
    "                                                  \"thumbsDown\": \"sum\",\n",
    "                                                  \"churn\": \"max\"}) \n",
    "\n",
    "# rename aggregated columns\n",
    "features_event = features_event.select(col(\"userId\"),\n",
    "                                       col(\"max(downgraded)\").alias(\"downgraded\"),\n",
    "                                       col(\"max(gender_male)\").alias(\"gender_male\"),\n",
    "                                       col(\"max(level_paid)\").alias(\"level_paid\"),\n",
    "                                       col(\"max(timeSinceRegistration)\").alias(\"timeSinceRegistration\"),\n",
    "                                       col(\"sum(playlistSongs)\").alias(\"playlistSongs\"),\n",
    "                                       col(\"sum(thumbsUp)\").alias(\"thumbsUp\"),\n",
    "                                       col(\"sum(thumbsDown)\").alias(\"thumbsDown\"),\n",
    "                                       col(\"max(churn)\").alias(\"churn\"))\n",
    "\n",
    "# present result\n",
    "features_event.show(5)"
   ]
  },
  {
   "cell_type": "markdown",
   "metadata": {},
   "source": [
    "### 3.1.5 Combine All Features\n",
    "Combine both features coming from session and event to create one final dataset ready to be used in the modelling."
   ]
  },
  {
   "cell_type": "code",
   "execution_count": 67,
   "metadata": {},
   "outputs": [
    {
     "name": "stdout",
     "output_type": "stream",
     "text": [
      "+----------+-----------+----------+---------------------+-------------+--------+----------+-----+-----+\n",
      "|downgraded|gender_male|level_paid|timeSinceRegistration|playlistSongs|thumbsUp|thumbsDown|churn| song|\n",
      "+----------+-----------+----------+---------------------+-------------+--------+----------+-----+-----+\n",
      "|         0|          0|         0|           4807612000|            7|      17|         5|    0| 39.3|\n",
      "|         0|          1|         1|           6054448000|            8|      21|         6|    0| 64.5|\n",
      "|         0|          1|         0|           6161779000|            0|       0|         0|    1|  8.0|\n",
      "|         0|          0|         1|          11366431000|          118|     171|        41|    0|140.7|\n",
      "|         0|          1|         1|           1680985000|           52|     100|        21|    1|211.1|\n",
      "+----------+-----------+----------+---------------------+-------------+--------+----------+-----+-----+\n",
      "only showing top 5 rows\n",
      "\n"
     ]
    }
   ],
   "source": [
    "# join all features\n",
    "df1 = features_event.alias('df1')\n",
    "df2 = features_session.alias('df2')\n",
    "features = df1.join(df2, df1.userId == df2.userId, 'left_outer') \\\n",
    "              .select('df1.*', 'df2.song') \\\n",
    "              .drop(df1.userId)\n",
    "\n",
    "# check examples\n",
    "features.show(5)"
   ]
  },
  {
   "cell_type": "code",
   "execution_count": 68,
   "metadata": {},
   "outputs": [
    {
     "name": "stdout",
     "output_type": "stream",
     "text": [
      "root\n",
      " |-- downgraded: integer (nullable = true)\n",
      " |-- gender_male: integer (nullable = true)\n",
      " |-- level_paid: integer (nullable = true)\n",
      " |-- timeSinceRegistration: long (nullable = true)\n",
      " |-- playlistSongs: long (nullable = true)\n",
      " |-- thumbsUp: long (nullable = true)\n",
      " |-- thumbsDown: long (nullable = true)\n",
      " |-- churn: integer (nullable = true)\n",
      " |-- song: double (nullable = true)\n",
      "\n"
     ]
    }
   ],
   "source": [
    "# check datatypes\n",
    "features.printSchema()"
   ]
  },
  {
   "cell_type": "code",
   "execution_count": 69,
   "metadata": {},
   "outputs": [
    {
     "data": {
      "text/plain": [
       "225"
      ]
     },
     "execution_count": 69,
     "metadata": {},
     "output_type": "execute_result"
    }
   ],
   "source": [
    "# display size\n",
    "features.count()"
   ]
  },
  {
   "cell_type": "code",
   "execution_count": 70,
   "metadata": {},
   "outputs": [
    {
     "data": {
      "text/html": [
       "<div>\n",
       "<style scoped>\n",
       "    .dataframe tbody tr th:only-of-type {\n",
       "        vertical-align: middle;\n",
       "    }\n",
       "\n",
       "    .dataframe tbody tr th {\n",
       "        vertical-align: top;\n",
       "    }\n",
       "\n",
       "    .dataframe thead th {\n",
       "        text-align: right;\n",
       "    }\n",
       "</style>\n",
       "<table border=\"1\" class=\"dataframe\">\n",
       "  <thead>\n",
       "    <tr style=\"text-align: right;\">\n",
       "      <th></th>\n",
       "      <th>downgraded</th>\n",
       "      <th>gender_male</th>\n",
       "      <th>level_paid</th>\n",
       "      <th>timeSinceRegistration</th>\n",
       "      <th>playlistSongs</th>\n",
       "      <th>thumbsUp</th>\n",
       "      <th>thumbsDown</th>\n",
       "      <th>song</th>\n",
       "    </tr>\n",
       "    <tr>\n",
       "      <th>churn</th>\n",
       "      <th></th>\n",
       "      <th></th>\n",
       "      <th></th>\n",
       "      <th></th>\n",
       "      <th></th>\n",
       "      <th></th>\n",
       "      <th></th>\n",
       "      <th></th>\n",
       "    </tr>\n",
       "  </thead>\n",
       "  <tbody>\n",
       "    <tr>\n",
       "      <th>0</th>\n",
       "      <td>0.231214</td>\n",
       "      <td>0.514451</td>\n",
       "      <td>0.745665</td>\n",
       "      <td>7.484022e+09</td>\n",
       "      <td>31.722543</td>\n",
       "      <td>61.803468</td>\n",
       "      <td>11.849711</td>\n",
       "      <td>71.168786</td>\n",
       "    </tr>\n",
       "    <tr>\n",
       "      <th>1</th>\n",
       "      <td>0.173077</td>\n",
       "      <td>0.615385</td>\n",
       "      <td>0.692308</td>\n",
       "      <td>4.951238e+09</td>\n",
       "      <td>19.961538</td>\n",
       "      <td>35.750000</td>\n",
       "      <td>9.538462</td>\n",
       "      <td>61.813462</td>\n",
       "    </tr>\n",
       "  </tbody>\n",
       "</table>\n",
       "</div>"
      ],
      "text/plain": [
       "       downgraded  gender_male  level_paid  timeSinceRegistration  \\\n",
       "churn                                                               \n",
       "0        0.231214     0.514451    0.745665           7.484022e+09   \n",
       "1        0.173077     0.615385    0.692308           4.951238e+09   \n",
       "\n",
       "       playlistSongs   thumbsUp  thumbsDown       song  \n",
       "churn                                                   \n",
       "0          31.722543  61.803468   11.849711  71.168786  \n",
       "1          19.961538  35.750000    9.538462  61.813462  "
      ]
     },
     "execution_count": 70,
     "metadata": {},
     "output_type": "execute_result"
    }
   ],
   "source": [
    "# Check average feature value for each target value\n",
    "features_pd = features.toPandas()\n",
    "features_pd.groupby('churn').mean()"
   ]
  },
  {
   "cell_type": "code",
   "execution_count": 71,
   "metadata": {},
   "outputs": [
    {
     "data": {
      "text/html": [
       "<div>\n",
       "<style scoped>\n",
       "    .dataframe tbody tr th:only-of-type {\n",
       "        vertical-align: middle;\n",
       "    }\n",
       "\n",
       "    .dataframe tbody tr th {\n",
       "        vertical-align: top;\n",
       "    }\n",
       "\n",
       "    .dataframe thead th {\n",
       "        text-align: right;\n",
       "    }\n",
       "</style>\n",
       "<table border=\"1\" class=\"dataframe\">\n",
       "  <thead>\n",
       "    <tr style=\"text-align: right;\">\n",
       "      <th></th>\n",
       "      <th>downgraded</th>\n",
       "      <th>gender_male</th>\n",
       "      <th>level_paid</th>\n",
       "      <th>timeSinceRegistration</th>\n",
       "      <th>playlistSongs</th>\n",
       "      <th>thumbsUp</th>\n",
       "      <th>thumbsDown</th>\n",
       "      <th>churn</th>\n",
       "      <th>song</th>\n",
       "    </tr>\n",
       "  </thead>\n",
       "  <tbody>\n",
       "    <tr>\n",
       "      <th>count</th>\n",
       "      <td>225.000000</td>\n",
       "      <td>225.000000</td>\n",
       "      <td>225.000000</td>\n",
       "      <td>2.250000e+02</td>\n",
       "      <td>225.000000</td>\n",
       "      <td>225.000000</td>\n",
       "      <td>225.000000</td>\n",
       "      <td>225.000000</td>\n",
       "      <td>225.000000</td>\n",
       "    </tr>\n",
       "    <tr>\n",
       "      <th>mean</th>\n",
       "      <td>0.217778</td>\n",
       "      <td>0.537778</td>\n",
       "      <td>0.733333</td>\n",
       "      <td>6.898667e+09</td>\n",
       "      <td>29.004444</td>\n",
       "      <td>55.782222</td>\n",
       "      <td>11.315556</td>\n",
       "      <td>0.231111</td>\n",
       "      <td>69.006667</td>\n",
       "    </tr>\n",
       "    <tr>\n",
       "      <th>std</th>\n",
       "      <td>0.413656</td>\n",
       "      <td>0.499682</td>\n",
       "      <td>0.443203</td>\n",
       "      <td>3.253951e+09</td>\n",
       "      <td>32.716654</td>\n",
       "      <td>65.477925</td>\n",
       "      <td>13.077481</td>\n",
       "      <td>0.422483</td>\n",
       "      <td>42.321477</td>\n",
       "    </tr>\n",
       "    <tr>\n",
       "      <th>min</th>\n",
       "      <td>0.000000</td>\n",
       "      <td>0.000000</td>\n",
       "      <td>0.000000</td>\n",
       "      <td>2.710600e+07</td>\n",
       "      <td>0.000000</td>\n",
       "      <td>0.000000</td>\n",
       "      <td>0.000000</td>\n",
       "      <td>0.000000</td>\n",
       "      <td>3.000000</td>\n",
       "    </tr>\n",
       "    <tr>\n",
       "      <th>25%</th>\n",
       "      <td>0.000000</td>\n",
       "      <td>0.000000</td>\n",
       "      <td>0.000000</td>\n",
       "      <td>5.108474e+09</td>\n",
       "      <td>6.000000</td>\n",
       "      <td>11.000000</td>\n",
       "      <td>2.000000</td>\n",
       "      <td>0.000000</td>\n",
       "      <td>35.900000</td>\n",
       "    </tr>\n",
       "    <tr>\n",
       "      <th>50%</th>\n",
       "      <td>0.000000</td>\n",
       "      <td>1.000000</td>\n",
       "      <td>1.000000</td>\n",
       "      <td>6.307591e+09</td>\n",
       "      <td>17.000000</td>\n",
       "      <td>35.000000</td>\n",
       "      <td>7.000000</td>\n",
       "      <td>0.000000</td>\n",
       "      <td>64.200000</td>\n",
       "    </tr>\n",
       "    <tr>\n",
       "      <th>75%</th>\n",
       "      <td>0.000000</td>\n",
       "      <td>1.000000</td>\n",
       "      <td>1.000000</td>\n",
       "      <td>8.672693e+09</td>\n",
       "      <td>44.000000</td>\n",
       "      <td>81.000000</td>\n",
       "      <td>16.000000</td>\n",
       "      <td>0.000000</td>\n",
       "      <td>91.700000</td>\n",
       "    </tr>\n",
       "    <tr>\n",
       "      <th>max</th>\n",
       "      <td>1.000000</td>\n",
       "      <td>1.000000</td>\n",
       "      <td>1.000000</td>\n",
       "      <td>2.215103e+10</td>\n",
       "      <td>240.000000</td>\n",
       "      <td>437.000000</td>\n",
       "      <td>75.000000</td>\n",
       "      <td>1.000000</td>\n",
       "      <td>286.700000</td>\n",
       "    </tr>\n",
       "  </tbody>\n",
       "</table>\n",
       "</div>"
      ],
      "text/plain": [
       "       downgraded  gender_male  level_paid  timeSinceRegistration  \\\n",
       "count  225.000000   225.000000  225.000000           2.250000e+02   \n",
       "mean     0.217778     0.537778    0.733333           6.898667e+09   \n",
       "std      0.413656     0.499682    0.443203           3.253951e+09   \n",
       "min      0.000000     0.000000    0.000000           2.710600e+07   \n",
       "25%      0.000000     0.000000    0.000000           5.108474e+09   \n",
       "50%      0.000000     1.000000    1.000000           6.307591e+09   \n",
       "75%      0.000000     1.000000    1.000000           8.672693e+09   \n",
       "max      1.000000     1.000000    1.000000           2.215103e+10   \n",
       "\n",
       "       playlistSongs    thumbsUp  thumbsDown       churn        song  \n",
       "count     225.000000  225.000000  225.000000  225.000000  225.000000  \n",
       "mean       29.004444   55.782222   11.315556    0.231111   69.006667  \n",
       "std        32.716654   65.477925   13.077481    0.422483   42.321477  \n",
       "min         0.000000    0.000000    0.000000    0.000000    3.000000  \n",
       "25%         6.000000   11.000000    2.000000    0.000000   35.900000  \n",
       "50%        17.000000   35.000000    7.000000    0.000000   64.200000  \n",
       "75%        44.000000   81.000000   16.000000    0.000000   91.700000  \n",
       "max       240.000000  437.000000   75.000000    1.000000  286.700000  "
      ]
     },
     "execution_count": 71,
     "metadata": {},
     "output_type": "execute_result"
    }
   ],
   "source": [
    "# statistics for all features\n",
    "features_pd.describe()"
   ]
  },
  {
   "cell_type": "markdown",
   "metadata": {},
   "source": [
    "### 3.1.6 Handle Outliers\n",
    "Check the continuous features for outliers and then apply log transformation."
   ]
  },
  {
   "cell_type": "code",
   "execution_count": 72,
   "metadata": {},
   "outputs": [],
   "source": [
    "def check_distribution(df, columns):\n",
    "    '''\n",
    "    Plot a histogram with boxplot for each listed column in dataframe.\n",
    "    \n",
    "    INPUT:\n",
    "    (dataframe) df - pandas dataframe\n",
    "    (list) columns - list of column names to be plotted\n",
    "    \n",
    "    OUTPUT:\n",
    "    None\n",
    "    '''\n",
    "     # Set variables\n",
    "    row_size = 1\n",
    "    column_size = len(columns)\n",
    "    f_width = column_size*3\n",
    "    f_height = 4\n",
    "    plot_counter = 0\n",
    "\n",
    "    # Set figure size\n",
    "    fig = plt.figure(figsize = [f_width, f_height])\n",
    "\n",
    "    # create a 2 X column_size grid \n",
    "    gs = grd.GridSpec(2, column_size, height_ratios=[8,2], width_ratios=None, hspace=0.3, wspace=0.6)\n",
    "\n",
    "    # Plot each column\n",
    "    for column in columns:\n",
    "        \n",
    "        # Find min and max for x\n",
    "        column_min = df[column].min()\n",
    "        column_max = df[column].max()\n",
    "        column_range = df[column].max() - df[column].min()\n",
    "        min_x = df[column].min() - (column_range / 20)\n",
    "        max_x = df[column].max() + (column_range / 20)\n",
    "        \n",
    "        # Histogram plot\n",
    "        ax = plt.subplot(gs[plot_counter])\n",
    "        warnings.simplefilter('ignore') # ignore warning due to bug in distplot\n",
    "        p = sns.distplot(df[column], kde=False, norm_hist=False)\n",
    "        warnings.simplefilter('default')\n",
    "        ax.xaxis.set_label_position('top') \n",
    "        if plot_counter == 0:\n",
    "            plt.ylabel('Frequency')\n",
    "        plt.xlim(min_x, max_x)\n",
    "\n",
    "        # Box plot\n",
    "        ax2 = plt.subplot(gs[plot_counter + column_size])\n",
    "        ax2.spines['right'].set_visible(False)\n",
    "        ax2.spines['top'].set_visible(False)\n",
    "        ax2.spines['left'].set_visible(False)\n",
    "        ax2.spines['bottom'].set_visible(False)\n",
    "        ax2 = sns.boxplot(x=df[column])\n",
    "        plt.xlabel('age_diff')\n",
    "        ax2.set(yticks=[])\n",
    "        ax2.get_xaxis().set_visible(False)\n",
    "        plt.xlim(min_x, max_x)\n",
    "        \n",
    "        # Increase counter\n",
    "        plot_counter += 1\n",
    "\n",
    "    # Show plot\n",
    "    plt.show()"
   ]
  },
  {
   "cell_type": "code",
   "execution_count": 73,
   "metadata": {},
   "outputs": [
    {
     "data": {
      "image/png": "[encoded data removed]",
      "text/plain": [
       "<matplotlib.figure.Figure at 0x7f25f8a9b6d8>"
      ]
     },
     "metadata": {},
     "output_type": "display_data"
    }
   ],
   "source": [
    "# define continuous features\n",
    "conFeat = ['timeSinceRegistration', 'playlistSongs', 'thumbsUp', 'thumbsDown', 'song']\n",
    "\n",
    "# Check distribution of continuous features\n",
    "check_distribution(features_pd, conFeat)"
   ]
  },
  {
   "cell_type": "code",
   "execution_count": 74,
   "metadata": {},
   "outputs": [],
   "source": [
    "# apply log to continuous features\n",
    "featuresNoOut = features.select(col(\"downgraded\"),\n",
    "                                col(\"gender_male\"),\n",
    "                                col(\"level_paid\"),\n",
    "                                F.log(col(\"timeSinceRegistration\") + 1).alias(\"timeSinceRegistration\"),\n",
    "                                F.log(col(\"playlistSongs\") + 1).alias(\"playlistSongs\"),\n",
    "                                F.log(col(\"thumbsUp\") + 1).alias(\"thumbsUp\"),\n",
    "                                F.log(col(\"thumbsDown\") + 1).alias(\"thumbsDown\"),\n",
    "                                F.log(col(\"song\") + 1).alias(\"song\"),\n",
    "                                col(\"churn\"))\n",
    "\n",
    "# create pandas version of dataset\n",
    "warnings.simplefilter('ignore') # ignore warning due to bug\n",
    "featuresNoOut_pd = featuresNoOut.toPandas()\n",
    "warnings.simplefilter('default')"
   ]
  },
  {
   "cell_type": "code",
   "execution_count": 75,
   "metadata": {},
   "outputs": [
    {
     "data": {
      "image/png": "[encoded data removed]",
      "text/plain": [
       "<matplotlib.figure.Figure at 0x7f25f86f0eb8>"
      ]
     },
     "metadata": {},
     "output_type": "display_data"
    }
   ],
   "source": [
    "# Check distribution of continuous features again\n",
    "check_distribution(featuresNoOut_pd, conFeat)"
   ]
  },
  {
   "cell_type": "code",
   "execution_count": 76,
   "metadata": {},
   "outputs": [
    {
     "data": {
      "text/html": [
       "<div>\n",
       "<style scoped>\n",
       "    .dataframe tbody tr th:only-of-type {\n",
       "        vertical-align: middle;\n",
       "    }\n",
       "\n",
       "    .dataframe tbody tr th {\n",
       "        vertical-align: top;\n",
       "    }\n",
       "\n",
       "    .dataframe thead th {\n",
       "        text-align: right;\n",
       "    }\n",
       "</style>\n",
       "<table border=\"1\" class=\"dataframe\">\n",
       "  <thead>\n",
       "    <tr style=\"text-align: right;\">\n",
       "      <th></th>\n",
       "      <th>downgraded</th>\n",
       "      <th>gender_male</th>\n",
       "      <th>level_paid</th>\n",
       "      <th>timeSinceRegistration</th>\n",
       "      <th>playlistSongs</th>\n",
       "      <th>thumbsUp</th>\n",
       "      <th>thumbsDown</th>\n",
       "      <th>song</th>\n",
       "    </tr>\n",
       "    <tr>\n",
       "      <th>churn</th>\n",
       "      <th></th>\n",
       "      <th></th>\n",
       "      <th></th>\n",
       "      <th></th>\n",
       "      <th></th>\n",
       "      <th></th>\n",
       "      <th></th>\n",
       "      <th></th>\n",
       "    </tr>\n",
       "  </thead>\n",
       "  <tbody>\n",
       "    <tr>\n",
       "      <th>0</th>\n",
       "      <td>0.231214</td>\n",
       "      <td>0.514451</td>\n",
       "      <td>0.745665</td>\n",
       "      <td>22.632942</td>\n",
       "      <td>2.886201</td>\n",
       "      <td>3.518490</td>\n",
       "      <td>2.008114</td>\n",
       "      <td>4.091826</td>\n",
       "    </tr>\n",
       "    <tr>\n",
       "      <th>1</th>\n",
       "      <td>0.173077</td>\n",
       "      <td>0.615385</td>\n",
       "      <td>0.692308</td>\n",
       "      <td>22.103498</td>\n",
       "      <td>2.494055</td>\n",
       "      <td>3.000832</td>\n",
       "      <td>1.925091</td>\n",
       "      <td>3.925782</td>\n",
       "    </tr>\n",
       "  </tbody>\n",
       "</table>\n",
       "</div>"
      ],
      "text/plain": [
       "       downgraded  gender_male  level_paid  timeSinceRegistration  \\\n",
       "churn                                                               \n",
       "0        0.231214     0.514451    0.745665              22.632942   \n",
       "1        0.173077     0.615385    0.692308              22.103498   \n",
       "\n",
       "       playlistSongs  thumbsUp  thumbsDown      song  \n",
       "churn                                                 \n",
       "0           2.886201  3.518490    2.008114  4.091826  \n",
       "1           2.494055  3.000832    1.925091  3.925782  "
      ]
     },
     "execution_count": 76,
     "metadata": {},
     "output_type": "execute_result"
    }
   ],
   "source": [
    "# Check average feature values for each target value after log transformation\n",
    "featuresNoOut_pd.groupby('churn').mean()"
   ]
  },
  {
   "cell_type": "markdown",
   "metadata": {},
   "source": [
    "## 3.2 Implementation"
   ]
  },
  {
   "cell_type": "markdown",
   "metadata": {},
   "source": [
    "### 3.2.1 Split Dataset"
   ]
  },
  {
   "cell_type": "code",
   "execution_count": 77,
   "metadata": {},
   "outputs": [
    {
     "name": "stdout",
     "output_type": "stream",
     "text": [
      "featuresNoOut shape: 225, 9\n",
      "train shape: 163, 9\n",
      "test shape: 37, 9\n",
      "validation shape: 25, 9\n"
     ]
    }
   ],
   "source": [
    "# split the full dataset into train, test, and validation sets\n",
    "train, test, validation = featuresNoOut.randomSplit([0.70, 0.15, 0.15], seed=42)\n",
    "\n",
    "# display shape of datasets\n",
    "print('featuresNoOut shape: {}, {}'.format(featuresNoOut.count(), len(featuresNoOut.columns)))\n",
    "print('train shape: {}, {}'.format(train.count(), len(train.columns)))\n",
    "print('test shape: {}, {}'.format(test.count(), len(test.columns)))\n",
    "print('validation shape: {}, {}'.format(validation.count(), len(validation.columns)))"
   ]
  },
  {
   "cell_type": "code",
   "execution_count": 78,
   "metadata": {},
   "outputs": [
    {
     "name": "stdout",
     "output_type": "stream",
     "text": [
      "+----------------------+\n",
      "|churnPct_featuresNoOut|\n",
      "+----------------------+\n",
      "|                0.2311|\n",
      "+----------------------+\n",
      "\n"
     ]
    }
   ],
   "source": [
    "# check churn distribution for featuresNoOut\n",
    "featuresNoOut.select(F.round(F.mean(col(\"churn\")), 4).alias(\"churnPct_featuresNoOut\")).show()"
   ]
  },
  {
   "cell_type": "code",
   "execution_count": 79,
   "metadata": {},
   "outputs": [
    {
     "name": "stdout",
     "output_type": "stream",
     "text": [
      "+--------------+\n",
      "|churnPct_train|\n",
      "+--------------+\n",
      "|        0.2515|\n",
      "+--------------+\n",
      "\n"
     ]
    }
   ],
   "source": [
    "# check churn distribution for train\n",
    "train.select(F.round(F.mean(col(\"churn\")), 4).alias(\"churnPct_train\")).show()"
   ]
  },
  {
   "cell_type": "code",
   "execution_count": 80,
   "metadata": {},
   "outputs": [
    {
     "name": "stdout",
     "output_type": "stream",
     "text": [
      "+-------------+\n",
      "|churnPct_test|\n",
      "+-------------+\n",
      "|       0.1622|\n",
      "+-------------+\n",
      "\n"
     ]
    }
   ],
   "source": [
    "# check churn distribution for test\n",
    "test.select(F.round(F.mean(col(\"churn\")), 4).alias(\"churnPct_test\")).show()"
   ]
  },
  {
   "cell_type": "code",
   "execution_count": 81,
   "metadata": {},
   "outputs": [
    {
     "name": "stdout",
     "output_type": "stream",
     "text": [
      "+-------------------+\n",
      "|churnPct_validation|\n",
      "+-------------------+\n",
      "|                0.2|\n",
      "+-------------------+\n",
      "\n"
     ]
    }
   ],
   "source": [
    "# check churn distribution for validation\n",
    "validation.select(F.round(F.mean(col(\"churn\")), 4).alias(\"churnPct_validation\")).show()"
   ]
  },
  {
   "cell_type": "markdown",
   "metadata": {},
   "source": [
    "### 3.2.2 Resampling\n",
    "The dataset is very unbalanced with much more 0 than 1 in the target variable (churn). Since some algorithms can be negatively affected by this I've chosen to undersample the majority class. This means that I remove some of the users that have not churned from the training set. The drawback is that we are removing information that could be valuable for the model."
   ]
  },
  {
   "cell_type": "code",
   "execution_count": 82,
   "metadata": {},
   "outputs": [],
   "source": [
    "def undersample(df, minority, majority): \n",
    "    '''\n",
    "    Returned new balanced dataset by undersampling the majority class.\n",
    "    The class name must be 'churn' in the df.\n",
    "    \n",
    "    INPUT:\n",
    "    (dataframe) df - dataframe to be balanced\n",
    "    (int) minority - minority class value\n",
    "    (int) majority - majority class value\n",
    "    \n",
    "    OUTPUT:\n",
    "    (dataframe) balDataset - balanced dataset which equal minority and \n",
    "                             majority classes\n",
    "    '''\n",
    "    \n",
    "    # find size of minority class\n",
    "    minoritySize = df.where(df.churn == minority).count()\n",
    "    \n",
    "    # create two separate sets of same size\n",
    "    df_minority = df.where(df.churn == minority)\n",
    "    df_majority = df.where(df.churn == majority).sample(1.0, seed=42).limit(minoritySize)\n",
    "    \n",
    "    # create one dataset\n",
    "    balDataset = df_minority.union(df_majority)\n",
    "    \n",
    "    # return pipeline\n",
    "    return balDataset"
   ]
  },
  {
   "cell_type": "code",
   "execution_count": 83,
   "metadata": {},
   "outputs": [
    {
     "name": "stdout",
     "output_type": "stream",
     "text": [
      "+-----+-----+\n",
      "|churn|count|\n",
      "+-----+-----+\n",
      "|    1|   41|\n",
      "|    0|  122|\n",
      "+-----+-----+\n",
      "\n"
     ]
    }
   ],
   "source": [
    "# display distribution before undersampling\n",
    "train.groupby(train.churn).count().show()"
   ]
  },
  {
   "cell_type": "code",
   "execution_count": 84,
   "metadata": {},
   "outputs": [],
   "source": [
    "# undersample training set\n",
    "train = undersample(train, 1, 0)"
   ]
  },
  {
   "cell_type": "code",
   "execution_count": 85,
   "metadata": {},
   "outputs": [
    {
     "name": "stdout",
     "output_type": "stream",
     "text": [
      "+-----+-----+\n",
      "|churn|count|\n",
      "+-----+-----+\n",
      "|    1|   41|\n",
      "|    0|   41|\n",
      "+-----+-----+\n",
      "\n"
     ]
    }
   ],
   "source": [
    "# display distribution after undersampling\n",
    "train.groupby(train.churn).count().show()"
   ]
  },
  {
   "cell_type": "markdown",
   "metadata": {},
   "source": [
    "### 3.2.3 Build Pipeline\n",
    "Build a pipeline and a training function that can be reused. The pipeline perform the following steps:\n",
    "- Put all features into a vector\n",
    "- Encode churn column to label indices\n",
    "- Scale all features to be between 0 and 1\n",
    "- Run model"
   ]
  },
  {
   "cell_type": "code",
   "execution_count": 86,
   "metadata": {},
   "outputs": [],
   "source": [
    "def build_pipeline(feature_cols, learner): \n",
    "    '''\n",
    "    Build pipeline of steps to be run when training model.\n",
    "    \n",
    "    INPUT:\n",
    "    (list) feature_cols - list of feature columns to be used\n",
    "    (clf) learner - the learning algorithm to be trained and predicted on\n",
    "    \n",
    "    OUTPUT:\n",
    "    (pipeline) pipeline - steps in pipeline \n",
    "    '''\n",
    "    \n",
    "    # create feature vector\n",
    "    featureAssembler = VectorAssembler(inputCols=feature_cols, outputCol=\"featuresRaw\")\n",
    "    \n",
    "    # create label\n",
    "    labelIndexer = StringIndexer(inputCol=\"churn\", outputCol=\"label\")\n",
    "    \n",
    "    # scale data\n",
    "    scaler = MinMaxScaler(inputCol=\"featuresRaw\", outputCol=\"features\")\n",
    "\n",
    "    # build pipeline\n",
    "    pipeline = Pipeline(stages=[featureAssembler, labelIndexer, scaler, learner])\n",
    "    \n",
    "    # return pipeline\n",
    "    return pipeline\n",
    "    "
   ]
  },
  {
   "cell_type": "code",
   "execution_count": 87,
   "metadata": {},
   "outputs": [],
   "source": [
    "def train_predict(pipeline, train, test): \n",
    "    '''\n",
    "    Train and predict and return dictionary with results.\n",
    "    \n",
    "    INPUT:\n",
    "    (pipeline) pipeline - steps in pipeline inclusing classifier\n",
    "    (dataframe) train - features and target training set\n",
    "    (dataframe) test - features and target testing set\n",
    "    \n",
    "    OUTPUT:\n",
    "    (dict) results - results from training and testing \n",
    "    '''\n",
    "    \n",
    "    # Dictionary for results\n",
    "    results = {}\n",
    "    \n",
    "    # Fit the pipeline to the training data\n",
    "    start = time() # Get start time\n",
    "    model = pipeline.fit(train)\n",
    "    end = time() # Get end time\n",
    "    \n",
    "    # Calculate the training time\n",
    "    results['train_time'] = round(end - start, 4)\n",
    "        \n",
    "    # Get the predictions\n",
    "    start = time() # Get start time\n",
    "    predictions_test = model.transform(test)\n",
    "    predictions_train = model.transform(train)\n",
    "    end = time() # Get end time\n",
    "    \n",
    "    # Calculate the total prediction time\n",
    "    results['pred_time'] = round(end - start, 4)\n",
    "\n",
    "    # compute f1 score on training samples\n",
    "    predRDD_train = predictions_train.select(['label', 'prediction']) \\\n",
    "                                     .rdd.map(lambda line: (line[1], line[0]))\n",
    "    metrics_train = MulticlassMetrics(predRDD_train)\n",
    "    f1Score_train = metrics_train.fMeasure(label=1.0, beta=1.0)\n",
    "    results['f1_train'] = f1Score_train\n",
    "    \n",
    "    # compute f1 score on test samples\n",
    "    predRDD_test = predictions_test.select(['label', 'prediction']) \\\n",
    "                                   .rdd.map(lambda line: (line[1], line[0]))\n",
    "    metrics_test = MulticlassMetrics(predRDD_test)\n",
    "    f1Score_test = metrics_test.fMeasure(label=1.0, beta=1.0)\n",
    "    results['f1_test'] = f1Score_test\n",
    "     \n",
    "    # Return the results\n",
    "    return results"
   ]
  },
  {
   "cell_type": "markdown",
   "metadata": {},
   "source": [
    "### 3.2.4 Initial Model Evaluation\n",
    "As discussed earlier, predicting user churn is a binary classification problem where we can use supervised learning. I will evaluate the following classifiers:\n",
    "\n",
    "- Logistic Regression\n",
    "- Decision Tree\n",
    "- Random Forest\n",
    "- Naive Bayes"
   ]
  },
  {
   "cell_type": "code",
   "execution_count": 88,
   "metadata": {},
   "outputs": [
    {
     "name": "stdout",
     "output_type": "stream",
     "text": [
      "LogisticRegression started\n",
      "DecisionTreeClassifier started\n",
      "RandomForestClassifier started\n",
      "NaiveBayes started\n",
      "Model evaluation took: 14.0 minutes\n"
     ]
    },
    {
     "data": {
      "text/html": [
       "<div>\n",
       "<style scoped>\n",
       "    .dataframe tbody tr th:only-of-type {\n",
       "        vertical-align: middle;\n",
       "    }\n",
       "\n",
       "    .dataframe tbody tr th {\n",
       "        vertical-align: top;\n",
       "    }\n",
       "\n",
       "    .dataframe thead th {\n",
       "        text-align: right;\n",
       "    }\n",
       "</style>\n",
       "<table border=\"1\" class=\"dataframe\">\n",
       "  <thead>\n",
       "    <tr style=\"text-align: right;\">\n",
       "      <th></th>\n",
       "      <th>LogisticRegression</th>\n",
       "      <th>DecisionTreeClassifier</th>\n",
       "      <th>RandomForestClassifier</th>\n",
       "      <th>NaiveBayes</th>\n",
       "    </tr>\n",
       "  </thead>\n",
       "  <tbody>\n",
       "    <tr>\n",
       "      <th>f1_test</th>\n",
       "      <td>0.454545</td>\n",
       "      <td>0.421053</td>\n",
       "      <td>0.476190</td>\n",
       "      <td>0.181818</td>\n",
       "    </tr>\n",
       "    <tr>\n",
       "      <th>f1_train</th>\n",
       "      <td>0.800000</td>\n",
       "      <td>0.897436</td>\n",
       "      <td>0.891892</td>\n",
       "      <td>0.582278</td>\n",
       "    </tr>\n",
       "    <tr>\n",
       "      <th>pred_time</th>\n",
       "      <td>0.362300</td>\n",
       "      <td>0.353000</td>\n",
       "      <td>0.261700</td>\n",
       "      <td>0.305900</td>\n",
       "    </tr>\n",
       "    <tr>\n",
       "      <th>train_time</th>\n",
       "      <td>148.732100</td>\n",
       "      <td>71.997300</td>\n",
       "      <td>79.367400</td>\n",
       "      <td>67.983600</td>\n",
       "    </tr>\n",
       "  </tbody>\n",
       "</table>\n",
       "</div>"
      ],
      "text/plain": [
       "            LogisticRegression  DecisionTreeClassifier  \\\n",
       "f1_test               0.454545                0.421053   \n",
       "f1_train              0.800000                0.897436   \n",
       "pred_time             0.362300                0.353000   \n",
       "train_time          148.732100               71.997300   \n",
       "\n",
       "            RandomForestClassifier  NaiveBayes  \n",
       "f1_test                   0.476190    0.181818  \n",
       "f1_train                  0.891892    0.582278  \n",
       "pred_time                 0.261700    0.305900  \n",
       "train_time               79.367400   67.983600  "
      ]
     },
     "execution_count": 88,
     "metadata": {},
     "output_type": "execute_result"
    }
   ],
   "source": [
    "# get start time\n",
    "start = time()\n",
    "\n",
    "# select features to use\n",
    "feature_cols = [\"downgraded\", \"gender_male\", \"level_paid\", \"timeSinceRegistration\", \n",
    "                \"playlistSongs\", \"thumbsUp\", \"thumbsDown\", \"song\"]\n",
    "\n",
    "# Initialize four models\n",
    "clf_LR = LogisticRegression(maxIter=50)\n",
    "clf_DT = DecisionTreeClassifier(seed=42)\n",
    "clf_RF = RandomForestClassifier(numTrees=10, seed=42)\n",
    "clf_NB = NaiveBayes() \n",
    "\n",
    "# collect results on the learners\n",
    "results = {}\n",
    "for clf in [clf_LR, clf_DT, clf_RF, clf_NB]:\n",
    "    \n",
    "    # get and print classifier name\n",
    "    clf_name = clf.__class__.__name__\n",
    "    print('{} started'.format(clf_name))\n",
    "    \n",
    "    # build pipeline and train model\n",
    "    pipeline = build_pipeline(feature_cols, clf)\n",
    "    results[clf_name] = train_predict(pipeline, train, test)\n",
    "\n",
    "# print time used\n",
    "time_minutes = round((time()-start)/60, 1)\n",
    "print('Model evaluation took: {} minutes'.format(time_minutes))\n",
    "    \n",
    "# present result\n",
    "results_df = pd.DataFrame(results)\n",
    "results_df"
   ]
  },
  {
   "cell_type": "markdown",
   "metadata": {},
   "source": [
    "## 3.3 Refinement - Tune Model\n",
    "Random Forest was chosen to be tuned since it had the highest F1 score during model evaluation. Three different evaluators was tested:\n",
    "- MulticlassClassificationEvaluator: **f1**\n",
    "- MulticlassClassificationEvaluator: **weightedPrecision**\n",
    "- BinaryClassificationEvaluator: **areaUnderROC**\n",
    "\n",
    "The binary classification evaluator was chosen in the end as it produced the best result."
   ]
  },
  {
   "cell_type": "code",
   "execution_count": 141,
   "metadata": {},
   "outputs": [
    {
     "name": "stdout",
     "output_type": "stream",
     "text": [
      "Unoptimized model: F1 score on testing data: 0.4762\n",
      "Optimized model: F1 score on testing data: 0.5263\n",
      "Tuning took: 23.5 minutes\n"
     ]
    }
   ],
   "source": [
    "# Get start time\n",
    "start = time() \n",
    "\n",
    "# get results for unoptimized model\n",
    "f1_unoptimized = round(results_df.loc['f1_test', 'RandomForestClassifier'], 4)\n",
    "print(\"Unoptimized model: F1 score on testing data: {:.4f}\".format(f1_unoptimized))\n",
    "\n",
    "# build pipeline\n",
    "pipeline_tuned = build_pipeline(feature_cols, clf_RF)\n",
    "\n",
    "# define hyperparameters \n",
    "paramGrid = ParamGridBuilder() \\\n",
    "    .addGrid(clf_RF.numTrees,[4, 7, 10]) \\\n",
    "    .addGrid(clf_RF.maxDepth,[3, 5, 7]) \\\n",
    "    .addGrid(clf_RF.minInstancesPerNode,[2, 4]) \\\n",
    "    .addGrid(clf_RF.seed,[42]) \\\n",
    "    .build()\n",
    "\n",
    "# cross validation\n",
    "crossval = CrossValidator(estimator=pipeline_tuned,\n",
    "                          estimatorParamMaps=paramGrid,\n",
    "                          evaluator=BinaryClassificationEvaluator(metricName=\"areaUnderROC\"),\n",
    "                          numFolds=3,\n",
    "                          seed=42)\n",
    "\n",
    "# train model\n",
    "cvModel = crossval.fit(train)\n",
    "\n",
    "# make predictions using tuned model on test\n",
    "pred_tuned = cvModel.transform(test)\n",
    "\n",
    "# compute f1 score on predictions\n",
    "predRDD_tuned = pred_tuned.select(['label', 'prediction']) \\\n",
    "                          .rdd.map(lambda line: (line[1], line[0]))\n",
    "metrics_tuned = MulticlassMetrics(predRDD_tuned)\n",
    "f1Score_tuned = metrics_tuned.fMeasure(label=1.0, beta=1.0)\n",
    "print(\"Optimized model: F1 score on testing data: {:.4f}\".format(f1Score_tuned))\n",
    "\n",
    "# print time used\n",
    "time_minutes = round((time()-start)/60, 1)\n",
    "print('Tuning took: {} minutes'.format(time_minutes))"
   ]
  },
  {
   "cell_type": "code",
   "execution_count": 142,
   "metadata": {},
   "outputs": [
    {
     "data": {
      "text/plain": [
       "{Param(parent='RandomForestClassifier_aecb52a0c13f', name='cacheNodeIds', doc='If false, the algorithm will pass trees to executors to match instances with nodes. If true, the algorithm will cache node IDs for each instance. Caching can speed up training of deeper trees.'): False,\n",
       " Param(parent='RandomForestClassifier_aecb52a0c13f', name='checkpointInterval', doc='set checkpoint interval (>= 1) or disable checkpoint (-1). E.g. 10 means that the cache will get checkpointed every 10 iterations. Note: this setting will be ignored if the checkpoint directory is not set in the SparkContext'): 10,\n",
       " Param(parent='RandomForestClassifier_aecb52a0c13f', name='featureSubsetStrategy', doc='The number of features to consider for splits at each tree node. Supported options: auto, all, onethird, sqrt, log2, (0.0-1.0], [1-n].'): 'auto',\n",
       " Param(parent='RandomForestClassifier_aecb52a0c13f', name='featuresCol', doc='features column name'): 'features',\n",
       " Param(parent='RandomForestClassifier_aecb52a0c13f', name='impurity', doc='Criterion used for information gain calculation (case-insensitive). Supported options: entropy, gini'): 'gini',\n",
       " Param(parent='RandomForestClassifier_aecb52a0c13f', name='labelCol', doc='label column name'): 'label',\n",
       " Param(parent='RandomForestClassifier_aecb52a0c13f', name='maxBins', doc='Max number of bins for discretizing continuous features.  Must be >=2 and >= number of categories for any categorical feature.'): 32,\n",
       " Param(parent='RandomForestClassifier_aecb52a0c13f', name='maxDepth', doc='Maximum depth of the tree. (>= 0) E.g., depth 0 means 1 leaf node; depth 1 means 1 internal node + 2 leaf nodes.'): 3,\n",
       " Param(parent='RandomForestClassifier_aecb52a0c13f', name='maxMemoryInMB', doc='Maximum memory in MB allocated to histogram aggregation.'): 256,\n",
       " Param(parent='RandomForestClassifier_aecb52a0c13f', name='minInfoGain', doc='Minimum information gain for a split to be considered at a tree node.'): 0.0,\n",
       " Param(parent='RandomForestClassifier_aecb52a0c13f', name='minInstancesPerNode', doc='Minimum number of instances each child must have after split.  If a split causes the left or right child to have fewer than minInstancesPerNode, the split will be discarded as invalid. Should be >= 1.'): 4,\n",
       " Param(parent='RandomForestClassifier_aecb52a0c13f', name='numTrees', doc='Number of trees to train (>= 1)'): 4,\n",
       " Param(parent='RandomForestClassifier_aecb52a0c13f', name='predictionCol', doc='prediction column name'): 'prediction',\n",
       " Param(parent='RandomForestClassifier_aecb52a0c13f', name='probabilityCol', doc='Column name for predicted class conditional probabilities. Note: Not all models output well-calibrated probability estimates! These probabilities should be treated as confidences, not precise probabilities'): 'probability',\n",
       " Param(parent='RandomForestClassifier_aecb52a0c13f', name='rawPredictionCol', doc='raw prediction (a.k.a. confidence) column name'): 'rawPrediction',\n",
       " Param(parent='RandomForestClassifier_aecb52a0c13f', name='seed', doc='random seed'): 42,\n",
       " Param(parent='RandomForestClassifier_aecb52a0c13f', name='subsamplingRate', doc='Fraction of the training data used for learning each decision tree, in range (0, 1].'): 1.0}"
      ]
     },
     "execution_count": 142,
     "metadata": {},
     "output_type": "execute_result"
    }
   ],
   "source": [
    "# check which parameters worked best\n",
    "cvModel.bestModel.stages[-1].extractParamMap()"
   ]
  },
  {
   "cell_type": "markdown",
   "metadata": {},
   "source": [
    "----\n",
    "# 4. Results"
   ]
  },
  {
   "cell_type": "markdown",
   "metadata": {},
   "source": [
    "## 4.1 Model Evaluation\n",
    "For the model evaluation we use the validation dataset which the model haven't seen before. We use the F1 score as the metric to evaluate and make sure that a user churning is the positive event. This is important since we have a lot more users which didn't churn in the data, and choosing this as the positive event would inflate the score."
   ]
  },
  {
   "cell_type": "markdown",
   "metadata": {},
   "source": [
    "### 4.1.1 F1 Score\n"
   ]
  },
  {
   "cell_type": "code",
   "execution_count": 143,
   "metadata": {},
   "outputs": [
    {
     "name": "stdout",
     "output_type": "stream",
     "text": [
      "Optimized model: F1 score on validation data: 0.4615\n"
     ]
    }
   ],
   "source": [
    "# make predictions using tuned model on validation dataset\n",
    "pred_validation = cvModel.transform(validation)\n",
    "\n",
    "# compute f1 score on predictions\n",
    "predRDD_valid = pred_validation.select(['label', 'prediction']) \\\n",
    "                               .rdd.map(lambda line: (line[1], line[0]))\n",
    "metrics_valid = MulticlassMetrics(predRDD_valid)\n",
    "f1Score_valid = metrics_valid.fMeasure(label=1.0, beta=1.0)\n",
    "\n",
    "# display result\n",
    "print(\"Optimized model: F1 score on validation data: {:.4f}\".format(f1Score_valid))"
   ]
  },
  {
   "cell_type": "markdown",
   "metadata": {},
   "source": [
    "### 4.1.2 Confusion Matrix\n",
    "To take a closer look at the validation predictions we create a confusion matrix. The actual values are displayed as rows and predicted values as columns. When considering a user churning as a positive event we see that:\n",
    "- **True Positive**: 3 users have a positive actual value and prediction is also positive\n",
    "- **False Negative**: 2 users have a positive actual value but prediction is negative\n",
    "- **False Positive**: 5 users have a negative actual value but prediction is positive\n",
    "- **True Negative**: 20 users have a negative actual value and prediction is also negative\n",
    "\n",
    "In other words, our model correctly predicted 15 out of 20 users as not churning. However, it only correctly predicted 3 out of 5 users as churning so it's not performing as good as one might hope. "
   ]
  },
  {
   "cell_type": "code",
   "execution_count": 144,
   "metadata": {},
   "outputs": [
    {
     "data": {
      "text/html": [
       "<div>\n",
       "<style scoped>\n",
       "    .dataframe tbody tr th:only-of-type {\n",
       "        vertical-align: middle;\n",
       "    }\n",
       "\n",
       "    .dataframe tbody tr th {\n",
       "        vertical-align: top;\n",
       "    }\n",
       "\n",
       "    .dataframe thead th {\n",
       "        text-align: right;\n",
       "    }\n",
       "</style>\n",
       "<table border=\"1\" class=\"dataframe\">\n",
       "  <thead>\n",
       "    <tr style=\"text-align: right;\">\n",
       "      <th></th>\n",
       "      <th>0</th>\n",
       "      <th>1</th>\n",
       "    </tr>\n",
       "  </thead>\n",
       "  <tbody>\n",
       "    <tr>\n",
       "      <th>0</th>\n",
       "      <td>15</td>\n",
       "      <td>5</td>\n",
       "    </tr>\n",
       "    <tr>\n",
       "      <th>1</th>\n",
       "      <td>2</td>\n",
       "      <td>3</td>\n",
       "    </tr>\n",
       "  </tbody>\n",
       "</table>\n",
       "</div>"
      ],
      "text/plain": [
       "    0  1\n",
       "0  15  5\n",
       "1   2  3"
      ]
     },
     "execution_count": 144,
     "metadata": {},
     "output_type": "execute_result"
    }
   ],
   "source": [
    "# create confusion matrix\n",
    "confMatrix = metrics_valid.confusionMatrix().toArray()\n",
    "\n",
    "# convert to pandas\n",
    "confMatrix_pd=pd.DataFrame(confMatrix, columns=['0', '1']) \n",
    "confMatrix_pd = confMatrix_pd.astype(int)\n",
    "confMatrix_pd.head()"
   ]
  },
  {
   "cell_type": "code",
   "execution_count": 145,
   "metadata": {},
   "outputs": [
    {
     "name": "stdout",
     "output_type": "stream",
     "text": [
      "+-----+----------+-------------+-------------+\n",
      "|label|prediction|0_probability|1_probability|\n",
      "+-----+----------+-------------+-------------+\n",
      "|  0.0|       0.0|         0.81|         0.19|\n",
      "|  0.0|       0.0|         0.53|         0.47|\n",
      "|  1.0|       0.0|         0.77|         0.23|\n",
      "|  0.0|       0.0|         0.53|         0.47|\n",
      "|  0.0|       1.0|         0.24|         0.76|\n",
      "|  1.0|       1.0|         0.29|         0.71|\n",
      "|  1.0|       1.0|         0.14|         0.86|\n",
      "|  1.0|       1.0|         0.47|         0.53|\n",
      "|  0.0|       0.0|         0.63|         0.37|\n",
      "|  0.0|       0.0|         0.77|         0.23|\n",
      "|  0.0|       0.0|         0.63|         0.37|\n",
      "|  0.0|       0.0|         0.77|         0.23|\n",
      "|  0.0|       0.0|         0.64|         0.36|\n",
      "|  0.0|       1.0|         0.49|         0.51|\n",
      "|  0.0|       0.0|         0.77|         0.23|\n",
      "|  0.0|       1.0|         0.49|         0.51|\n",
      "|  0.0|       0.0|         0.77|         0.23|\n",
      "|  0.0|       0.0|         0.77|         0.23|\n",
      "|  0.0|       0.0|         0.63|         0.37|\n",
      "|  1.0|       0.0|         0.77|         0.23|\n",
      "|  0.0|       0.0|         0.63|         0.37|\n",
      "|  0.0|       0.0|         0.77|         0.23|\n",
      "|  0.0|       0.0|         0.63|         0.37|\n",
      "|  0.0|       1.0|         0.49|         0.51|\n",
      "|  0.0|       1.0|         0.42|         0.58|\n",
      "+-----+----------+-------------+-------------+\n",
      "\n"
     ]
    }
   ],
   "source": [
    "# check all validation predictions\n",
    "firstElement=udf(lambda v:float(v[0]))\n",
    "secondElement=udf(lambda v:float(v[1]))\n",
    "pred_validation.select(['label', 'prediction', \n",
    "                        F.round(firstElement('probability'), 2).alias('0_probability'),\n",
    "                        F.round(secondElement('probability'), 2).alias('1_probability')]).show(25)"
   ]
  },
  {
   "cell_type": "markdown",
   "metadata": {},
   "source": [
    "## 4.2 Justification\n",
    "When evaluating the model it got a F1 score of **46.2%** which is not very good. When looking closer at the result via a confusion matrix we saw that the model only predicted 3 out of 5 churning users correctly. As the dataset available was very small, it's hard to trust the model in it's current state. It should be trained and validated further on a greater dataset.\n",
    "\n",
    "At the moment no threshold tuning have been done. This means that the target class with the highest probability will be chosen (>50% probability). If we could get the \"cost\" of a churning customer and compare that against the cost of the activities for keeping the customer, we could do a cost-benefit analysis of different threshold scenarios. We could make the model catch more of the churn users, but that would come with the trade-of of also incorrectly flagging more of the not churning users as churning."
   ]
  },
  {
   "cell_type": "markdown",
   "metadata": {},
   "source": [
    "----\n",
    "# 5. Conclusion"
   ]
  },
  {
   "cell_type": "markdown",
   "metadata": {},
   "source": [
    "## 5.1 Reflection\n",
    "In this project I set out to predict which users would churn from the Sparkify music streaming service. I found out that this would be a binary classification problem and decided to use supervised learning using Spark machine learning. First I did some data exploration to get a feel for the data. I then continued building features. Once I had a dataset ready I trained 4 different types of models. The Random Forest classifier performed the best and I then further tuned this model using different hyperparameters and cross validation.\n",
    "\n",
    "In the end I evaluated the model on a previous unseen dataset where the model got an F1 score of **46.2%** which was not that good. When looking closer at the result via a confusion matrix we saw that the model only predicted 3 out of 5 churning users correctly. However, the model should be trained and validated further on a bigger dataset as the data available for this workspace was very limited. \n",
    "\n",
    "As a long-term user of the Spotify music streaming service, I found the feature engineering part particulary interesting. It was fun trying out some ideas I've been thinking about for a while as a user. Unfortunatly I couldn't try out all of my ideas since data needed was not provided. One such idea is that the number of playlists a user has, \"lock\" him to a service since it would be too much work recreating many playlists with another service."
   ]
  },
  {
   "cell_type": "markdown",
   "metadata": {},
   "source": [
    "## 5.2 Improvement\n",
    "The model could be improved by being trained on a bigger dataset. In addition more parameters and parameter values could be tested during hyperparameter tuning. Both of these improvements would require more computing power, so the project would probably benefit from being moved on to AWS or similar cloud service.\n",
    "\n",
    "Another improvement could be to try out more features. Here are some ideas:\n",
    "- How many times a user has been on the cancel page without confirming\n",
    "- Average time between sessions\n",
    "- Average session length\n",
    "- Songs listened to last month compared to average last 6 months\n",
    "- Time since last session"
   ]
  }
 ],
 "metadata": {
  "kernelspec": {
   "display_name": "Python 3",
   "language": "python",
   "name": "python3"
  },
  "language_info": {
   "codemirror_mode": {
    "name": "ipython",
    "version": 3
   },
   "file_extension": ".py",
   "mimetype": "text/x-python",
   "name": "python",
   "nbconvert_exporter": "python",
   "pygments_lexer": "ipython3",
   "version": "3.6.3"
  }
 },
 "nbformat": 4,
 "nbformat_minor": 2
}
